{
 "cells": [
  {
   "cell_type": "markdown",
   "metadata": {},
   "source": [
    "# Chapter 4 Decrease-and-Conquer"
   ]
  },
  {
   "cell_type": "markdown",
   "metadata": {},
   "source": [
    "## 4.1 Insertion Sort"
   ]
  },
  {
   "cell_type": "markdown",
   "metadata": {},
   "source": [
    "### InsertionSort(A[0..n − 1])\n",
    "\n",
    "ALGORITHM \n",
    "\n",
    "//Sorts a given array by insertion sort\n",
    "\n",
    "//Input: An array A[0..n − 1] of n orderable elements\n",
    "\n",
    "//Output: Array A[0..n − 1] sorted in nondecreasing order"
   ]
  },
  {
   "cell_type": "code",
   "execution_count": 4,
   "metadata": {},
   "outputs": [
    {
     "name": "stdout",
     "output_type": "stream",
     "text": [
      "5\n",
      "6\n",
      "11\n",
      "12\n",
      "13\n"
     ]
    }
   ],
   "source": [
    "# Function to do insertion sort \n",
    "def insertionSort(arr): \n",
    "  \n",
    "    # Traverse through 1 to len(arr) \n",
    "    for i in range(1, len(arr)): \n",
    "  \n",
    "        key = arr[i] \n",
    "  \n",
    "        # Move elements of arr[0..i-1], that are \n",
    "        # greater than key, to one position ahead \n",
    "        # of their current position \n",
    "        j = i-1\n",
    "        while j >=0 and key < arr[j] : \n",
    "                arr[j+1] = arr[j] \n",
    "                j -= 1\n",
    "        arr[j+1] = key \n",
    "  \n",
    "  \n",
    "# Driver code to test above \n",
    "arr = [12, 11, 13, 5, 6] \n",
    "insertionSort(arr) \n",
    "for i in range(len(arr)): \n",
    "    print (\"%d\" %arr[i]) \n",
    "\n",
    "# This code is contributed by Mohit Kumra "
   ]
  },
  {
   "cell_type": "markdown",
   "metadata": {},
   "source": [
    "### 4.4 Binary Search\n",
    "\n",
    "Binary search is a remarkably efficient algorithm for searching in a sorted array. It\n",
    "works by comparing a search key K with the array’s middle element A[m]. If they\n",
    "match, the algorithm stops; otherwise, the same operation is repeated recursively\n",
    "for the first half of the array ifK <A[m], and for the second half ifK >A[m]:\n",
    "\n",
    "### BinarySearch(A[0..n − 1], K)\n",
    "ALGORITHM \n",
    "\n",
    "//Implements nonrecursive binary search\n",
    "\n",
    "//Input: An array A[0..n − 1] sorted in ascending order and\n",
    "\n",
    "// a search key K\n",
    "\n",
    "//Output: An index of the array’s element that is equal to K\n",
    "\n",
    "// or −1 if there is no such element"
   ]
  },
  {
   "cell_type": "code",
   "execution_count": null,
   "metadata": {},
   "outputs": [],
   "source": []
  }
 ],
 "metadata": {
  "kernelspec": {
   "display_name": "Python 3",
   "language": "python",
   "name": "python3"
  },
  "language_info": {
   "codemirror_mode": {
    "name": "ipython",
    "version": 3
   },
   "file_extension": ".py",
   "mimetype": "text/x-python",
   "name": "python",
   "nbconvert_exporter": "python",
   "pygments_lexer": "ipython3",
   "version": "3.6.7"
  }
 },
 "nbformat": 4,
 "nbformat_minor": 2
}
