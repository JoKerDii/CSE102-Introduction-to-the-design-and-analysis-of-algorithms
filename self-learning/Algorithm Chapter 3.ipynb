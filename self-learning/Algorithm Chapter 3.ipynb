{
 "cells": [
  {
   "cell_type": "markdown",
   "metadata": {},
   "source": [
    "# Chapter 3 Brute Force and Exhausted Search"
   ]
  },
  {
   "cell_type": "markdown",
   "metadata": {},
   "source": [
    "## 3.1 Selection sort & Bubble sort\n",
    "\n",
    "### Selection Sort\n",
    "\n",
    "We start selection sort by scanning the entire given list to find its smallest element\n",
    "and exchange it with the first element, putting the smallest element in its final\n",
    "position in the sorted list. Then we scan the list, starting with the second element,\n",
    "to find the smallest among the last n − 1 elements and exchange it with the second\n",
    "element, putting the second smallest element in its final position."
   ]
  },
  {
   "cell_type": "markdown",
   "metadata": {},
   "source": [
    "\n",
    "### SelectionSort(A[0..n − 1])\n",
    "\n",
    "ALGORITHM \n",
    "\n",
    "//Sorts a given array by selection sort\n",
    "\n",
    "//Input: An array A[0..n − 1] of orderable elements\n",
    "\n",
    "//Output: Array A[0..n − 1] sorted in nondecreasing order\n",
    "    "
   ]
  },
  {
   "cell_type": "code",
   "execution_count": 27,
   "metadata": {},
   "outputs": [],
   "source": [
    "import sys \n",
    "\n",
    "def SelectionSort(A):\n",
    "    \n",
    "    # Traverse through all array elements \n",
    "    for i in range(len(A)): \n",
    "      \n",
    "        # Find the minimum element in remaining unsorted array \n",
    "        min_idx = i \n",
    "        for j in range(i+1, len(A)): \n",
    "            if A[min_idx] > A[j]: \n",
    "                min_idx = j \n",
    "              \n",
    "        # Swap the found minimum element with the first element         \n",
    "        A[i], A[min_idx] = A[min_idx], A[i]\n",
    "    return A\n",
    "  "
   ]
  },
  {
   "cell_type": "code",
   "execution_count": 28,
   "metadata": {},
   "outputs": [
    {
     "name": "stdout",
     "output_type": "stream",
     "text": [
      "Sorted array\n"
     ]
    },
    {
     "data": {
      "text/plain": [
       "[11, 12, 22, 25, 64]"
      ]
     },
     "execution_count": 28,
     "metadata": {},
     "output_type": "execute_result"
    }
   ],
   "source": [
    "# Driver code to test above \n",
    "print (\"Sorted array\") \n",
    "A = [64, 25, 12, 22, 11] \n",
    "SelectionSort(A)"
   ]
  },
  {
   "cell_type": "markdown",
   "metadata": {},
   "source": [
    "## Bubble Sort\n",
    "\n",
    "Bubble Sort is the simplest sorting algorithm that works by repeatedly swapping the adjacent elements if they are in wrong order.\n",
    "\n",
    "It is to compare adjacent\n",
    "elements of the list and exchange them if they are out of order. By doing it\n",
    "repeatedly, we end up “bubbling up” the largest element to the last position on\n",
    "the list. The next pass bubbles up the second largest element, and so on, until\n",
    "after n − 1 passes the list is sorted.\n",
    "\n",
    "### BubbleSort(A[0..n − 1])\n",
    "\n",
    "\n",
    "\n",
    "\n",
    "ALGORITHM \n",
    "\n",
    "//Sorts a given array by bubble sort\n",
    "\n",
    "//Input: An array A[0..n − 1] of orderable elements\n",
    "\n",
    "//Output: Array A[0..n − 1] sorted in nondecreasing order"
   ]
  },
  {
   "cell_type": "markdown",
   "metadata": {},
   "source": [
    "###  There is something importent that should be noticed:\n",
    "\n",
    "After the **first** sort of the array, the last **two** numbers are the **largest two** numbers\n",
    "\n",
    "After the **second** sort of the array, the last **three** numbers are the **largest three** numbers\n",
    "\n",
    "So on so forth,thus the total number of loops is **len(arr)**\n",
    "\n",
    "Hence in the example below, \"**for j in range (0, n-i-1)**\" exactly considered this point."
   ]
  },
  {
   "cell_type": "code",
   "execution_count": 25,
   "metadata": {},
   "outputs": [],
   "source": [
    "def bubbleSort(arr): \n",
    "    n = len(arr) \n",
    "  \n",
    "    # Traverse through all array elements \n",
    "    for i in range(n): \n",
    "  \n",
    "        # Last i elements are already in place \n",
    "        for j in range(0, n-i-1): \n",
    "  \n",
    "            # traverse the array from 0 to n-i-1 \n",
    "            # Swap if the element found is greater \n",
    "            # than the next element \n",
    "            if arr[j] > arr[j+1] : \n",
    "                arr[j], arr[j+1] = arr[j+1], arr[j] \n",
    "    return arr\n",
    "  \n"
   ]
  },
  {
   "cell_type": "code",
   "execution_count": 26,
   "metadata": {},
   "outputs": [
    {
     "name": "stdout",
     "output_type": "stream",
     "text": [
      "Sorted array is:\n"
     ]
    },
    {
     "data": {
      "text/plain": [
       "[11, 12, 22, 25, 34, 64, 90]"
      ]
     },
     "execution_count": 26,
     "metadata": {},
     "output_type": "execute_result"
    }
   ],
   "source": [
    "# Driver code to test above \n",
    "arr = [64, 34, 25, 12, 22, 11, 90] \n",
    "print (\"Sorted array is:\") \n",
    "bubbleSort(arr)  "
   ]
  },
  {
   "cell_type": "markdown",
   "metadata": {},
   "source": [
    "### Exercise 3.1 \n",
    "4. Design a brute-force algorithm for computing the value of a polynomial\n",
    "\n",
    "$p(x) = a_nx^n + a_{n−1}x^{n−1} + . . . + a_1x + a_0$\n",
    "\n",
    "at a given point x0 and determine its worst-case efficiency class."
   ]
  },
  {
   "cell_type": "markdown",
   "metadata": {},
   "source": [
    "### BruteForcePolynomialEvaluation(P[0..n], x)\n",
    "\n",
    "\n",
    "//The algorithm computes the value of polynomial P at a given point x\n",
    "\n",
    "//by the “highest-to-lowest term” brute-force algorithm\n",
    "\n",
    "//Input: Array P[0..n] of the coefficients of a polynomial of degree n,\n",
    "\n",
    "\n",
    "// stored from the lowest to the highest and a number x\n",
    "\n",
    "//Output: The value of the polynomial at the point x"
   ]
  },
  {
   "cell_type": "code",
   "execution_count": 24,
   "metadata": {},
   "outputs": [],
   "source": [
    "def BruteForcePolynomialEvaluation(P, x): \n",
    "    \"\"\"\n",
    "    P[0..n]: an array of the coefficients of a polynomial of degree n\n",
    "    x: a given point\n",
    "    \"\"\"\n",
    "    \n",
    "    n = len(P) - 1\n",
    "    p = 0\n",
    "    \n",
    "    # i is from n to 0, totally n+1 indeces\n",
    "    for i in range(0,n+1)[::-1]:\n",
    "        \n",
    "        # calculate the decreasing power of x in the polynomial \n",
    "        power = 1\n",
    "        for j in range(1,i+1):\n",
    "            power = power * x\n",
    "        \n",
    "        # calculate the polynomial from i = n to i = 0\n",
    "        p = p + P[i] * power \n",
    "    return p"
   ]
  },
  {
   "cell_type": "code",
   "execution_count": 21,
   "metadata": {},
   "outputs": [
    {
     "data": {
      "text/plain": [
       "170898"
      ]
     },
     "execution_count": 21,
     "metadata": {},
     "output_type": "execute_result"
    }
   ],
   "source": [
    "# Driver code to test above \n",
    "P = [3,4,5,6,7,8,9]\n",
    "x = 5\n",
    "BruteForcePolynomialEvaluation(P,x)"
   ]
  },
  {
   "cell_type": "markdown",
   "metadata": {},
   "source": [
    "### BetterBruteForcePolynomialEvaluation(P[0..n], x)\n",
    "\n",
    "//The algorithm computes the value of polynomial P at a given point x\n",
    "\n",
    "\n",
    "//by the “lowest-to-highest term” algorithm\n",
    "\n",
    "//Input: Array P[0..n] of the coefficients of a polynomial of degree n,\n",
    "\n",
    "// from the lowest to the highest, and a number x\n",
    "\n",
    "//Output: The value of the polynomial at the point x\n"
   ]
  },
  {
   "cell_type": "code",
   "execution_count": 24,
   "metadata": {},
   "outputs": [],
   "source": [
    "def BetterBruteForcePolynomialEvaluation(P,x):\n",
    "    '''\n",
    "    Better solution\n",
    "    '''\n",
    "    p = P[0]\n",
    "    power = 1\n",
    "    \n",
    "    for i in range(0,n):\n",
    "        power = power * x\n",
    "        p = p + P[i] * power\n",
    "    return p"
   ]
  },
  {
   "cell_type": "code",
   "execution_count": 29,
   "metadata": {},
   "outputs": [
    {
     "data": {
      "text/plain": [
       "170898"
      ]
     },
     "execution_count": 29,
     "metadata": {},
     "output_type": "execute_result"
    }
   ],
   "source": [
    "# Driver code to test above \n",
    "P = [3,4,5,6,7,8,9]\n",
    "x = 5\n",
    "BruteForcePolynomialEvaluation(P,x)"
   ]
  },
  {
   "cell_type": "markdown",
   "metadata": {},
   "source": [
    "### Exercise 3.1\n",
    "5. A network topology specifies how computers, printers, and other devices\n",
    "are connected over a network. The figure below illustrates three common\n",
    "topologies of networks: the ring, the star, and the fully connected mesh\n",
    "\n",
    "You are given a boolean matrix A[0..n − 1, 0..n − 1], where n > 3, which is\n",
    "supposed to be the adjacency matrix of a graph modeling a network with one\n",
    "of these topologies. Your task is to determine which of these three topologies,\n",
    "if any, the matrix represents. Design a brute-force algorithm for this task and\n",
    "indicate its time efficiency class."
   ]
  },
  {
   "cell_type": "markdown",
   "metadata": {},
   "source": [
    "\n",
    "### WhichTopology(A[0..n − 1, 0..n − 1])\n",
    "\n",
    "1: {Determines whether the graph is a ring, a star, or a fully connected mesh}\n",
    "\n",
    "2: {Input: Boolean adjacency matrix A[0..n − 1, 0..n − 1] of the graph}\n",
    "\n",
    "3: {Output: 1 denoting a ring, 2 denoting a star, or 3 denoting a fully connected mesh}\n",
    "\n"
   ]
  },
  {
   "cell_type": "markdown",
   "metadata": {},
   "source": [
    "Solution:\n",
    "\n",
    "Each vertex of a ring is connected to exactly two other vertices, so if we sum up the entires in a row we get 2. For a star, each of the n − 1 vertices is connected to one other vertex and the central vertex is connected to n − 1 other vertices. For a fully connected mesh, each vertex is connected to exactly n − 1 other vertices. The pseudocode is given in W hichT opology.\n",
    "\n",
    "Time efficiency is linear"
   ]
  },
  {
   "cell_type": "code",
   "execution_count": 28,
   "metadata": {},
   "outputs": [],
   "source": [
    "def WhichTopology(A): \n",
    "    \n",
    "    '''\n",
    "    1: {Determines whether the graph is a ring, a star, or a fully connected mesh}\n",
    "    2: {Input: Boolean adjacency matrix A[0..n − 1, 0..n − 1] of the graph}\n",
    "    3: {Output: 1 denoting a ring, 2 denoting a star, or 3 denoting a fully connected mesh}\n",
    "    '''\n",
    "    \n",
    "    d0 = 0\n",
    "    # calculate the number of lines of one node, summing each row is ok\n",
    "    for i in range(1,n):\n",
    "        d0 = do + A[0,i]\n",
    "        \n",
    "    # Determine ring or star\n",
    "    if d0 == 2:\n",
    "        return 1\n",
    "    if d0 == 1:\n",
    "        return 2\n",
    "    \n",
    "    # star and fully connected mesh should be differentiated by double calculating.\n",
    "    # Because a star has a node connected to all other nodes, while in fully connected mesh, all nodes are connected to others\n",
    "    d1 = 0\n",
    "    for i in range(0,n):\n",
    "        d1 = d1 + A[1,i]\n",
    "    \n",
    "    # Thus if the number of connecting line of two nodes are the same, it is fully connected mesh, otherwise, it is star \n",
    "    if d0 == d1:\n",
    "        return 3\n",
    "    else:\n",
    "        return 2\n",
    "    "
   ]
  },
  {
   "cell_type": "markdown",
   "metadata": {},
   "source": [
    "### Exercise 3.1\n",
    "14. Alternating disks You have a row of 2n disks of two colors, n dark and n light.\n",
    "They alternate: dark, light, dark, light, and so on. You want to get all the dark\n",
    "disks to the right-hand end, and all the light disks to the left-hand end. The\n",
    "only moves you are allowed to make are those that interchange the positions\n",
    "of two neighboring disks.\n",
    "Design an algorithm for solving this puzzle and determine the number of\n",
    "moves it takes. [Gar99]"
   ]
  },
  {
   "cell_type": "markdown",
   "metadata": {},
   "source": [
    "Consider that an array of size n. The array is filled with 0's at odd index and with 1's at even index. 1 represents a dark and 0 represents a light disk.\n",
    "\n",
    "The algorithm to rearrange the array so that all the black disks represented by 1 move to the right and all light disks represented by 0 move to the left is as follows.\n",
    "\n",
    "### SortBalls()\n",
    "\n",
    "ALGORITHM\n",
    "\n",
    "// Sort a given array\n",
    "\n",
    "//Input: An array A[0...n-1] containing 0's and 1's as 1 0 1 0 1 0 1 0 ...\n",
    "\n",
    "//OutputL An array A[0... n-1] sorted as 0 0 0....1 1 1\n",
    "\n",
    "// run the outer loo for i from 0 to n-1\n",
    "\n",
    "\n"
   ]
  },
  {
   "cell_type": "code",
   "execution_count": 16,
   "metadata": {},
   "outputs": [],
   "source": [
    "def SortBalls(A):\n",
    "    \"\"\"\n",
    "    // Sort a given array\n",
    "\n",
    "//Input: An array A[0...n-1] containing 0's and 1's as 1 0 1 0 1 0 1 0 ...\n",
    "\n",
    "//OutputL An array A[0... n-1] sorted as 0 0 0....1 1 1\n",
    "\n",
    "// run the outer loo for i from 0 to n-1\n",
    "\n",
    "    \"\"\"\n",
    "    n = len(A)\n",
    "    for i in range(n):\n",
    "        # run the inner loop from 0 to n - i - 1\n",
    "        for j in range(1,n-i):\n",
    "            # compare the adjacent values\n",
    "            if A[j] < A[j-1]:\n",
    "                # swap the values\n",
    "                A[j], A[j-1] = A[j-1], A[j]\n",
    "    return A"
   ]
  },
  {
   "cell_type": "code",
   "execution_count": 17,
   "metadata": {},
   "outputs": [
    {
     "data": {
      "text/plain": [
       "[0, 0, 0, 0, 1, 1, 1, 1]"
      ]
     },
     "execution_count": 17,
     "metadata": {},
     "output_type": "execute_result"
    }
   ],
   "source": [
    "A = [1,0,1,0,1,0,1,0]\n",
    "SortBalls(A)"
   ]
  },
  {
   "cell_type": "markdown",
   "metadata": {},
   "source": [
    "### Additional exercises : [test1.pdf](http://www.mscs.mu.edu/~mtanviru/index_files/test1sol.pdf)"
   ]
  },
  {
   "cell_type": "markdown",
   "metadata": {},
   "source": [
    "### 1. Counting Sort\n",
    "\n",
    "Counting sort is a sorting technique based on keys between a specific range. It works by counting the number of objects having distinct key values (kind of hashing). Then doing some arithmetic to calculate the position of each object in the output sequence.\n",
    "\n"
   ]
  },
  {
   "cell_type": "markdown",
   "metadata": {},
   "source": [
    "For simplicity, consider the data in the range 0 to 9. \n",
    "\n",
    "Input data: 1, 4, 1, 2, 7, 5, 2\n",
    "\n",
    "    1) Take a count array to store the count of each unique object.\n",
    "  \n",
    "Index:     0  1  2  3  4  5  6  7  8  9\n",
    "\n",
    "Count:     0  2  2  0   1  1  0  1  0  0\n",
    "\n",
    "  2) Modify the count array such that each element at each index \n",
    "  stores the sum of previous counts. \n",
    "  \n",
    "Index:     0  1  2  3  4  5  6  7  8  9\n",
    "\n",
    "Count:     0  2  4  4  5  6  6  7  7  7\n",
    "\n",
    "The modified count array indicates the position of each object in \n",
    "the output sequence.\n",
    " \n",
    "  3) Output each object from the input sequence followed by \n",
    "  decreasing its count by 1.\n",
    "  \n",
    "Process the input data: 1, 4, 1, 2, 7, 5, 2. Position of 1 is 2.\n",
    "  \n",
    "Put data 1 at index 2 in output. Decrease count by 1 to place \n",
    "  \n",
    "next data 1 at an index 1 smaller than this index."
   ]
  },
  {
   "cell_type": "code",
   "execution_count": 82,
   "metadata": {},
   "outputs": [],
   "source": [
    "def CountingSort(A):\n",
    "    \"\"\"\n",
    "1: {Sort the elements in A[1..n] in nondecreasing order}\n",
    "2: {Input: An array A[1..n] of nonnegative integers and the value (k) of the the highest element in A[1..n]}\n",
    "3: {Output: An array B[1..n] containing the elements of A[1..n] sorted in nondecreasing order}\n",
    "\n",
    "    \"\"\"\n",
    "    C = []\n",
    "    # k is the largest element in A\n",
    "    k = largest(A)\n",
    "    # The length of C is equal to the length of 0,1,2,3 …… to k (the biggest value)\n",
    "    for i in range(0,k+1): \n",
    "        C.append(0)\n",
    "        \n",
    "    n = len(A)\n",
    "    # C is the counting array where the index is the number in A, and the value is the frequency of this number(index)\n",
    "    for i in range(0,n): \n",
    "        C[A[i]] = C[A[i]] + 1\n",
    "    \n",
    "    # aggregate the value one index by one index \n",
    "    for i in range(1, k+1):\n",
    "        C[i] = C[i] + C[i-1]\n",
    "    \n",
    "    B = []\n",
    "    for i in range(0,n):\n",
    "        B.append(0)\n",
    "\n",
    "    # The value of C is the index in A, which are stored in B\n",
    "    for i in range(0,n)[::-1]:\n",
    "        B[C[A[i]]-1] = A[i]\n",
    "        C[A[i]] = C[A[i]] - 1\n",
    "    \n",
    "    return B        "
   ]
  },
  {
   "cell_type": "code",
   "execution_count": 83,
   "metadata": {},
   "outputs": [],
   "source": [
    "def largest(A): \n",
    "    n = len(A)\n",
    "    # Initialize maximum element \n",
    "    max = A[0] \n",
    "  \n",
    "    # Traverse array elements from second \n",
    "    # and compare every element with  \n",
    "    # current max \n",
    "    for i in range(1, n): \n",
    "        if A[i] > max: \n",
    "            max = A[i] \n",
    "    return max"
   ]
  },
  {
   "cell_type": "code",
   "execution_count": 84,
   "metadata": {},
   "outputs": [
    {
     "data": {
      "text/plain": [
       "[0, 0, 2, 2, 3, 3, 3, 4, 5, 6]"
      ]
     },
     "execution_count": 84,
     "metadata": {},
     "output_type": "execute_result"
    }
   ],
   "source": [
    "A = [2,4,5,6,3,0,2,3,0,3]\n",
    "CountingSort(A)"
   ]
  },
  {
   "cell_type": "code",
   "execution_count": 92,
   "metadata": {},
   "outputs": [
    {
     "name": "stdout",
     "output_type": "stream",
     "text": [
      "Sorted character array is dehllloorw\n"
     ]
    }
   ],
   "source": [
    "def countSort(arr): \n",
    "    \"\"\"\n",
    "1: {Sort the alphabets in arr string}\n",
    "2: {Input: An string arr and the highest element is not needed since 26 alphabets}\n",
    "3: {Output: An string ans is the sorted arr in alphabetic order}\n",
    "\n",
    "    \"\"\"\n",
    "    # The output character array that will have sorted arr \n",
    "    output = [0 for i in range(256)] \n",
    "  \n",
    "    # Create a count array to store count of inidividul \n",
    "    # characters and initialize count array as 0 \n",
    "    count = [0 for i in range(256)] \n",
    "  \n",
    "    # For storing the resulting answer since the  \n",
    "    # string is immutable \n",
    "    ans = [\"\" for _ in arr] \n",
    "  \n",
    "    # Store count of each character \n",
    "    for i in arr: \n",
    "        count[ord(i)] += 1\n",
    "  \n",
    "    # Change count[i] so that count[i] now contains actual \n",
    "    # position of this character in output array \n",
    "    for i in range(256): \n",
    "        count[i] += count[i-1] \n",
    "  \n",
    "    # Build the output character array \n",
    "    for i in range(len(arr)): \n",
    "        output[count[ord(arr[i])]-1] = arr[i] \n",
    "        count[ord(arr[i])] -= 1\n",
    "  \n",
    "    # Copy the output array to arr, so that arr now \n",
    "    # contains sorted characters \n",
    "    for i in range(len(arr)): \n",
    "        ans[i] = output[i] \n",
    "    return ans  \n",
    "  \n",
    "# Driver program to test above function \n",
    "arr = \"helloworld\"\n",
    "ans = countSort(arr) \n",
    "print (\"Sorted character array is %s\"  %(\"\".join(ans)) )"
   ]
  },
  {
   "cell_type": "markdown",
   "metadata": {},
   "source": [
    "## 3.2 Sequential Search and Brute-Force String Matching\n",
    "\n",
    "### Sequential Search\n",
    "\n",
    "To repeat, the algorithm\n",
    "simply compares successive elements of a given list with a given search key until\n",
    "either a match is encountered (successful search) or the list is exhausted without\n",
    "finding a match (unsuccessful search)."
   ]
  },
  {
   "cell_type": "code",
   "execution_count": 15,
   "metadata": {},
   "outputs": [
    {
     "name": "stdout",
     "output_type": "stream",
     "text": [
      "Element is present at index 3\n"
     ]
    }
   ],
   "source": [
    "def SequentialSearch(arr, x): \n",
    "    \"\"\"\n",
    "    //Implements sequential search with a search key as a sentinel\n",
    "  //Input: An array A of n elements and a search key K\n",
    "  //Output: The index of the first element in A[0..n − 1] whose value is\n",
    "  // equal to K or −1 if no such element is found\n",
    "    \"\"\"\n",
    "    \n",
    "    n = len(arr)\n",
    "    \n",
    "    # search x one by one\n",
    "    for i in range (0, n): \n",
    "        if (arr[i] == x): \n",
    "            return i; \n",
    "    return -1; \n",
    "  \n",
    "    \n",
    "# Driver Code \n",
    "arr = [ 2, 3, 4, 10, 40 ]; \n",
    "x = 10; \n",
    "n = len(arr); \n",
    "result = SequentialSearch(arr, x) \n",
    "if(result == -1): \n",
    "    print(\"Element is not present in array\") \n",
    "else: \n",
    "    print(\"Element is present at index\", result); "
   ]
  },
  {
   "cell_type": "markdown",
   "metadata": {},
   "source": [
    "### Brute-Force String Matching\n",
    "\n",
    "Given a string of n\n",
    "characters called the text and a string of m characters (m ≤ n) called the pattern,\n",
    "find a substring of the text that matches the pattern."
   ]
  },
  {
   "cell_type": "markdown",
   "metadata": {},
   "source": [
    "1: {Implements brute-force string matching}\n",
    "\n",
    "2: {Input: An array T[0..n−1] of n characters representing a text and an array P[0..m−1] of m characters\n",
    "representing a pattern}\n",
    "\n",
    "3: {Output: The index of the first character in the text that starts a matching substring or −1 if the search\n",
    "is unsuccessful}\n"
   ]
  },
  {
   "cell_type": "code",
   "execution_count": 19,
   "metadata": {},
   "outputs": [],
   "source": [
    "def BruteForceStringMatching(T,P):\n",
    "    \"\"\"\n",
    "    Input： An array T of len(T) = n characters representing a text and an array P of len(P) =m charachers representing a pattern\n",
    "    Output: The index of the first character in the text that starts a matching substring P; or \"Not found\" if the there is no such a pattern\n",
    "    \n",
    "    \"\"\"\n",
    "    n = len(T)\n",
    "    m = len(P)\n",
    "    \n",
    "    # To find P pattern in T string, only searching n-m times\n",
    "    for i in range(0,n-m+1):\n",
    "        j = 0\n",
    "        \n",
    "        # compare each elements in P to T[i+j]\n",
    "        while j < m and P[j] == T[i+j]:\n",
    "            j = j+1\n",
    "        \n",
    "        # Which means that m characters are all matched, then giving the first index\n",
    "        if j == m:\n",
    "            return i\n",
    "        \n",
    "    return \"Not found\""
   ]
  },
  {
   "cell_type": "code",
   "execution_count": 112,
   "metadata": {},
   "outputs": [
    {
     "data": {
      "text/plain": [
       "14"
      ]
     },
     "execution_count": 112,
     "metadata": {},
     "output_type": "execute_result"
    }
   ],
   "source": [
    "T = \"THERE IS A NOTICE\"\n",
    "P = \"ICE\"\n",
    "BruteForceStringMatching(T,P)"
   ]
  },
  {
   "cell_type": "code",
   "execution_count": 113,
   "metadata": {},
   "outputs": [
    {
     "data": {
      "text/plain": [
       "11"
      ]
     },
     "execution_count": 113,
     "metadata": {},
     "output_type": "execute_result"
    }
   ],
   "source": [
    "T = \"THERE IS A NOTICE\"\n",
    "P = \"NOT\"\n",
    "BruteForceStringMatching(T,P)"
   ]
  },
  {
   "cell_type": "code",
   "execution_count": 114,
   "metadata": {},
   "outputs": [
    {
     "data": {
      "text/plain": [
       "'Not found'"
      ]
     },
     "execution_count": 114,
     "metadata": {},
     "output_type": "execute_result"
    }
   ],
   "source": [
    "T = \"THERE IS A NOTICE\"\n",
    "P = \"HHH\"\n",
    "BruteForceStringMatching(T,P)"
   ]
  },
  {
   "cell_type": "markdown",
   "metadata": {},
   "source": [
    "### Exercise 3.2\n",
    "\n",
    "3. Gadget testing A firm wants to determine the highest floor of its n-story\n",
    "headquarters from which a gadget can fall without breaking. The firm has two\n",
    "identical gadgets to experiment with. If one of them gets broken, it cannot be\n",
    "repaired, and the experiment will have to be completed with the remaining\n",
    "gadget. Design an algorithm in the best efficiency class you can to solve this\n",
    "problem."
   ]
  },
  {
   "cell_type": "markdown",
   "metadata": {},
   "source": [
    "<img style=\"float;\" src=\"Ch3.1.png\" width=\"80%\">\n",
    "<img style=\"float;\" src=\"Ch3.2.png\" width=\"80%\">\n",
    "<img style=\"float;\" src=\"Ch3.3.png\" width=\"80%\">\n",
    "<img style=\"float;\" src=\"Ch3.4.png\" width=\"80%\">\n"
   ]
  },
  {
   "cell_type": "markdown",
   "metadata": {},
   "source": [
    "### Exercise 3.2\n",
    "4. Determine the number of character comparisons made by the brute-force\n",
    "algorithm in searching for the pattern GANDHI in the text\n",
    "\n",
    "THERE_IS_MORE_TO_LIFE_THAN_INCREASING_ITS_SPEED\n",
    "\n",
    "Assume that the length of the text—it is 47 characters long—is known before\n",
    "the search starts."
   ]
  },
  {
   "cell_type": "code",
   "execution_count": 21,
   "metadata": {},
   "outputs": [],
   "source": [
    "def BruteForceStringMatching(T,P):\n",
    "    \"\"\"\n",
    "    Input： An array T of len(T) = n characters representing a text and an array P of len(P) =m charachers representing a pattern\n",
    "    Output: The index of the first character in the text that starts a matching substring P; or \"Not found\" if the there is no such a pattern\n",
    "    \n",
    "    \"\"\"\n",
    "    n = len(T)\n",
    "    m = len(P)\n",
    "    \n",
    "    # To find P pattern in T string, only searching n-m times\n",
    "    for i in range(0,n-m+1):\n",
    "        j = 0\n",
    "        \n",
    "        # compare each elements in P to T[i+j]\n",
    "        while j < m and P[j] == T[i+j]:\n",
    "            j = j+1\n",
    "        \n",
    "        # Which means that m characters are all matched, then giving the first index\n",
    "        if j == m:\n",
    "            return i\n",
    "        \n",
    "    return \"Not found\""
   ]
  },
  {
   "cell_type": "code",
   "execution_count": 22,
   "metadata": {},
   "outputs": [
    {
     "data": {
      "text/plain": [
       "'Not found'"
      ]
     },
     "execution_count": 22,
     "metadata": {},
     "output_type": "execute_result"
    }
   ],
   "source": [
    "T = \"THERE_IS_MORE_TO_LIFE_THAN_INCREASING_ITS_SPEED\"\n",
    "P = \"GANDHI\"\n",
    "\n",
    "BruteForceStringMatching(T,P)"
   ]
  },
  {
   "cell_type": "markdown",
   "metadata": {},
   "source": [
    "### Exercise 3.2\n",
    "8. Consider the problem of counting, in a given text, the number of substrings\n",
    "that start with an A and end with a B. For example, there are four such\n",
    "substrings in CABAAXBYA.\n",
    "\n",
    "a. Design a brute-force algorithm for this problem and determine its efficiency\n",
    "class.\n",
    "\n",
    "b. Design a more efficient algorithm for this problem. [Gin04]"
   ]
  },
  {
   "cell_type": "markdown",
   "metadata": {},
   "source": [
    "### Bruteforce_algorithm(T[0...n-1])\n",
    "\n",
    "ALGORITHM\n",
    "\n",
    "// Calculating the number of substrings in the given string whose first letter is A and last letter is B.\n",
    "\n",
    "// Notice that the desired substring s that starts with A at a given position i\n",
    "\n",
    "// where 0 <= i < n-1 in the text is equal to the number of B's right side to that particular position\n",
    "\n",
    "// Input : An array T[0...n-1] of n characters\n",
    "\n",
    "// Output : The number of desired substrings in the given string\n"
   ]
  },
  {
   "cell_type": "code",
   "execution_count": 25,
   "metadata": {},
   "outputs": [],
   "source": [
    "def Bruteforce_algorithm(T):\n",
    "    \"\"\"\n",
    "    // Input : An array T[0...n-1] of n characters\n",
    "    // Output : The number of desired substrings in the given string\n",
    "    \n",
    "    \"\"\"\n",
    "    count = 0\n",
    "    for i in range(n-1):\n",
    "        if T[i] == \"A\":\n",
    "            for j in range(i,n):\n",
    "                if T[j] == \"B\":\n",
    "                    count = count + 1\n",
    "    return count"
   ]
  },
  {
   "cell_type": "markdown",
   "metadata": {},
   "source": [
    "### LinearStringMatchingBruteForce(T[0...n-1])\n",
    "\n",
    "ALGORITHM\n",
    "\n",
    "// We perform this algorithm with the logic same as above \n",
    "\n",
    "// we use two different counts one is for number of A's for every B's, and another one is for number of desired string\n",
    "\n",
    "// Input : An array T[0...n-1] of n characters\n",
    "\n",
    "// Output : The number of desired substring in the given string\n"
   ]
  },
  {
   "cell_type": "code",
   "execution_count": 27,
   "metadata": {},
   "outputs": [],
   "source": [
    "def LinearStringMatchingBruteForce(T):\n",
    "    \n",
    "    \"\"\"\n",
    "    // Input : An array T[0...n-1] of n characters\n",
    "    // Output : The number of desired substring in the given string\n",
    "    \n",
    "    \"\"\"\n",
    "    count = 0\n",
    "    countA = 0\n",
    "    \n",
    "    # The count actually is the number of A times the number of B.  (A * B)\n",
    "    for i in range(n):\n",
    "        if T[i] == \"A\":\n",
    "            countA = countA + 1\n",
    "        if T[i] == \"B\":\n",
    "            count = count + countA\n",
    "            \n",
    "    return count\n",
    "            "
   ]
  },
  {
   "cell_type": "markdown",
   "metadata": {},
   "source": [
    "### Exercise 3.2\n",
    "10. Word Find A popular diversion in the United States, “word find” (or “word\n",
    "search”) puzzles ask the player to find each of a given set of words in a square\n",
    "table filled with single letters. A word can read horizontally (left or right),\n",
    "vertically (up or down), or along a 45 degree diagonal (in any of the four\n",
    "directions) formed by consecutively adjacent cells of the table; it may wrap\n",
    "around the table’s boundaries, but it must read in the same direction with no\n",
    "zigzagging. The same cell of the table may be used in different words, but, in a\n",
    "given word, the same cell may be used no more than once. Write a computer\n",
    "program for solving this puzzle. "
   ]
  },
  {
   "cell_type": "markdown",
   "metadata": {},
   "source": [
    "See [a word-search solution in github](https://github.com/robbiebarrat/word-search)."
   ]
  },
  {
   "cell_type": "code",
   "execution_count": 35,
   "metadata": {},
   "outputs": [
    {
     "name": "stdout",
     "output_type": "stream",
     "text": [
      "Keep in mind, rows are horizontal and columns are vertical.\n",
      "ROBBIE is at row 1 and column 8 going downwards.\n",
      "PYTHON is at row 1 and column 2 going downwards and right diagonally.\n",
      "BEEF is at row 2 and column 4 going right.\n",
      "GITHUB is at row 6 and column 1 going upwards.\n"
     ]
    }
   ],
   "source": [
    "__author__ = 'Robbie Barrat'\n",
    "\n",
    "# Put the words you are trying to find here. All the text you enter should be 100% uppercase or 100% lowercase.\n",
    "\n",
    "solutions = ['PYTHON', 'ROBBIE', 'GITHUB', 'BEEF']\n",
    "\n",
    "# Here goes your puzzle, separate each letter by a space.\n",
    "\n",
    "puzzle ='''\n",
    "B P G S B S O R\n",
    "U D Y B E E F O\n",
    "H B W T E R G B\n",
    "T Z C N H D E B\n",
    "I E E W Z O S I\n",
    "G C H A N B N E\n",
    "'''\n",
    "\n",
    "# Just formats the puzzle into a more computer-readable text\n",
    "wordgrid = puzzle.replace(' ','')\n",
    "\n",
    "# Computers start counting at zero, so...\n",
    "length = wordgrid.index('\\n')+1\n",
    "\n",
    "\n",
    "characters = [(letter, divmod(index, length))\n",
    "            for  index, letter in enumerate (wordgrid)]\n",
    "\n",
    "wordlines = {}\n",
    "# These next lines just  directions so you can tell which direction the word is going\n",
    "directions = {'going downwards':0, 'going downwards and left diagonally':-1, 'going downwards and right diagonally':1}\n",
    "\n",
    "for word_direction, directions in directions.items():\n",
    "    wordlines[word_direction] = []\n",
    "    for x in range(length):\n",
    "        for i in range(x, len(characters), length + directions):\n",
    "            wordlines[word_direction].append(characters[i])\n",
    "        wordlines[word_direction].append('\\n')\n",
    "\n",
    "# Nice neat way of doing reversed directions.\n",
    "wordlines['going right'] = characters\n",
    "wordlines['going left'] = [i for i in reversed(characters)]\n",
    "wordlines['going upwards'] = [i for i in reversed(wordlines['going downwards'])]\n",
    "wordlines['going upwards and left diagonally'] = [i for i in reversed(wordlines['going downwards and right diagonally'])]\n",
    "wordlines['going upwards and right diagonally'] = [i for i in reversed(wordlines['going downwards and left diagonally'])]\n",
    "\n",
    "\n",
    "def printitout(direction, tuple, lines):\n",
    "    print (\"Keep in mind, rows are horizontal and columns are vertical.\")\n",
    "    for direction, tuple in lines.items():\n",
    "        string = ''.join([i[0] for i in tuple])\n",
    "        for word in solutions:\n",
    "            if word in string:\n",
    "                coordinates = tuple[string.index(word)][1]\n",
    "                print(word, 'is at row', coordinates[0]+1, 'and column', coordinates[1]+1, direction + \".\")\n",
    "                \n",
    "printitout(word_direction, tuple, wordlines)"
   ]
  },
  {
   "cell_type": "markdown",
   "metadata": {},
   "source": [
    "### Additional exercises : [test2.pdf](http://www.cse.aucegypt.edu/~csci321/ex2-bf.pdf)"
   ]
  },
  {
   "cell_type": "markdown",
   "metadata": {},
   "source": [
    "## 3.3 Closest-Pair and Convex-Hull Problems by Brute Force"
   ]
  },
  {
   "cell_type": "markdown",
   "metadata": {},
   "source": [
    "### Closest-Pair Problem\n",
    "The closest-pair problem calls for finding the two closest points in a set of n\n",
    "points"
   ]
  },
  {
   "cell_type": "code",
   "execution_count": 28,
   "metadata": {},
   "outputs": [
    {
     "data": {
      "text/plain": [
       "(-7j, ((9+3j), (9+10j)))"
      ]
     },
     "execution_count": 28,
     "metadata": {},
     "output_type": "execute_result"
    }
   ],
   "source": [
    "import numpy as np\n",
    "infinity = float('inf')\n",
    "  \n",
    "def BruteForceClosestPair(point):\n",
    "    \"\"\"\n",
    "    //Finds distance between two closest points in the plane by brute force\n",
    "//Input: A list P of n (n ≥ 2) points p1(x1, y1), . . . , pn(xn, yn)\n",
    "//Output: The distance between the closest pair of points\n",
    "    \"\"\"\n",
    "\n",
    "    numPoints = len(point)\n",
    "    if numPoints < 2:\n",
    "        return infinity, (None, None)\n",
    "    \n",
    "    # Calculate the Euclidean distance\n",
    "    return min( ((np.sqrt((point[i] - point[j])**2), (point[i], point[j]))\n",
    "                 for i in range(numPoints-1) # From 0 to n-1\n",
    "                 for j in range(i+1,numPoints)), # From i+1 to n\n",
    "                key=itemgetter(0))\n",
    "\n",
    "point = [(5+9j), (9+3j), (2+0j), (8+4j), (7+4j), (9+10j), (1+9j), (8+2j), 10j, (9+6j)]\n",
    "BruteForceClosestPair(point)"
   ]
  },
  {
   "cell_type": "markdown",
   "metadata": {},
   "source": [
    "### Convex-Hull Problem\n",
    "\n",
    "The convex-hull problem is the problem of constructing the convex hull for\n",
    "a given set S of n points."
   ]
  },
  {
   "cell_type": "code",
   "execution_count": 30,
   "metadata": {},
   "outputs": [
    {
     "name": "stdout",
     "output_type": "stream",
     "text": [
      "1.0\n",
      "0.5\n",
      "0.25\n"
     ]
    }
   ],
   "source": [
    "import numpy as np\n",
    "\n",
    "def PolyArea2D(pts):\n",
    "    lines = np.hstack([pts,np.roll(pts,-1,axis=0)])\n",
    "    area = 0.5*abs(sum(x1*y2-x2*y1 for x1,y1,x2,y2 in lines))\n",
    "    return area\n",
    "\n",
    "pts = [[0,0],[1,0],[1,1],[0,1]]\n",
    "print (PolyArea2D(pts) )   \n",
    "\n",
    "pts = [[0,0],[1,0],[0,1]]\n",
    "print (PolyArea2D(pts))    \n",
    "\n",
    "pts = [[0,0],[1,0],[0.5,0.5]] \n",
    "print (PolyArea2D(pts)) "
   ]
  },
  {
   "cell_type": "markdown",
   "metadata": {},
   "source": [
    "## 3.4 Exhaustive Search\n",
    "\n",
    "\n",
    "Exhaustive search is simply a brute-force approach to combinatorial problems.\n",
    "\n",
    "\n",
    "It suggests generating each and every element of the problem domain, selecting\n",
    "those of them that satisfy all the constraints, and then finding a desired\n",
    "element."
   ]
  },
  {
   "cell_type": "code",
   "execution_count": 5,
   "metadata": {},
   "outputs": [
    {
     "name": "stdout",
     "output_type": "stream",
     "text": [
      "Solution Exists: Following is one Hamiltonian Cycle\n",
      "0\n",
      "1\n",
      "2\n",
      "4\n",
      "3\n",
      "0 \n",
      "\n",
      "Solution does not exist\n",
      "\n"
     ]
    }
   ],
   "source": [
    "# Python program for solution of hamiltonian cycle problem \n",
    "  \n",
    "class Graph(): \n",
    "    def __init__(self, vertices): \n",
    "        self.graph = [[0 for column in range(vertices)]\n",
    "                            for row in range(vertices)] \n",
    "        self.V = vertices \n",
    "  \n",
    "    ''' \n",
    "    Check if this vertex is an adjacent vertex  \n",
    "    of the previously added vertex and is not  \n",
    "    included in the path earlier \n",
    "    '''\n",
    "    def isSafe(self, v, pos, path): \n",
    "        # Check if current vertex and last vertex  \n",
    "        # in path are adjacent \n",
    "        if self.graph[ path[pos-1] ][v] == 0: \n",
    "            return False\n",
    "  \n",
    "        # Check if current vertex not already in path \n",
    "        for vertex in path: \n",
    "            if vertex == v: \n",
    "                return False\n",
    "  \n",
    "        return True\n",
    "  \n",
    "    # A recursive utility function to solve  \n",
    "    # hamiltonian cycle problem \n",
    "    def hamCycleUtil(self, path, pos): \n",
    "  \n",
    "        # base case: if all vertices are  \n",
    "        # included in the path \n",
    "        if pos == self.V: \n",
    "            # Last vertex must be adjacent to the  \n",
    "            # first vertex in path to make a cyle \n",
    "            if self.graph[ path[pos-1] ][ path[0] ] == 1: \n",
    "                return True\n",
    "            else: \n",
    "                return False\n",
    "  \n",
    "        # Try different vertices as a next candidate  \n",
    "        # in Hamiltonian Cycle. We don't try for 0 as  \n",
    "        # we included 0 as starting point in in hamCycle() \n",
    "        for v in range(1,self.V): \n",
    "  \n",
    "            if self.isSafe(v, pos, path) == True: \n",
    "  \n",
    "                path[pos] = v \n",
    "  \n",
    "                if self.hamCycleUtil(path, pos+1) == True: \n",
    "                    return True\n",
    "  \n",
    "                # Remove current vertex if it doesn't  \n",
    "                # lead to a solution \n",
    "                path[pos] = -1\n",
    "  \n",
    "        return False\n",
    "  \n",
    "    def hamCycle(self): \n",
    "        path = [-1] * self.V \n",
    "  \n",
    "        ''' Let us put vertex 0 as the first vertex  \n",
    "            in the path. If there is a Hamiltonian Cycle,  \n",
    "            then the path can be started from any point \n",
    "            of the cycle as the graph is undirected '''\n",
    "        path[0] = 0\n",
    "  \n",
    "        if self.hamCycleUtil(path,1) == False: \n",
    "            print (\"Solution does not exist\\n\")\n",
    "            return False\n",
    "  \n",
    "        self.printSolution(path) \n",
    "        return True\n",
    "  \n",
    "    def printSolution(self, path): \n",
    "        print (\"Solution Exists: Following is one Hamiltonian Cycle\")\n",
    "        for vertex in path: \n",
    "            print (vertex), \n",
    "        print (path[0], \"\\n\")\n",
    "  \n",
    "# Driver Code \n",
    "  \n",
    "''' Let us create the following graph \n",
    "      (0)--(1)--(2) \n",
    "       |   / \\   | \n",
    "       |  /   \\  | \n",
    "       | /     \\ | \n",
    "      (3)-------(4)    '''\n",
    "g1 = Graph(5) \n",
    "g1.graph = [ [0, 1, 0, 1, 0], [1, 0, 1, 1, 1],  \n",
    "             [0, 1, 0, 0, 1,],[1, 1, 0, 0, 1],  \n",
    "             [0, 1, 1, 1, 0], ] \n",
    "  \n",
    "# Print the solution \n",
    "g1.hamCycle(); \n",
    "  \n",
    "''' Let us create the following graph \n",
    "      (0)--(1)--(2) \n",
    "       |   / \\   | \n",
    "       |  /   \\  | \n",
    "       | /     \\ | \n",
    "      (3)       (4)    '''\n",
    "g2 = Graph(5) \n",
    "g2.graph = [ [0, 1, 0, 1, 0], [1, 0, 1, 1, 1],  \n",
    "           [0, 1, 0, 0, 1,], [1, 1, 0, 0, 0],  \n",
    "           [0, 1, 1, 0, 0], ] \n",
    "  \n",
    "# Print the solution \n",
    "g2.hamCycle(); \n",
    "  \n",
    "# This code is contributed by Divyanshu Mehta "
   ]
  },
  {
   "cell_type": "markdown",
   "metadata": {},
   "source": [
    "- **NOTE：**\n",
    "\n",
    "    **Backtracking (Example-1)**\n",
    "    \n",
    "    I will explain it later on in this chapter."
   ]
  },
  {
   "cell_type": "markdown",
   "metadata": {},
   "source": [
    "### Exercise 3.4\n",
    "9. Eight-queens problem Consider the classic puzzle of placing eight queens on\n",
    "an 8 × 8 chessboard so that no two queens are in the same row or in the same\n",
    "column or on the same diagonal. How many different positions are there so\n",
    "that\n",
    "\n",
    "a. no two queens are on the same square?\n",
    "\n",
    "b. no two queens are in the same row?\n",
    "\n",
    "c. no two queens are in the same row or in the same column?\n",
    "\n",
    "Also estimate how long it would take to find all the solutions to the problem by\n",
    "exhaustive search based on each of these approaches on a computer capable\n",
    "of checking 10 billion positions per second.\n",
    "\n",
    "### Look at this website about the N queens problem and also some other associated problems that use backtracking algorithm in python.\n",
    "https://www.geeksforgeeks.org/n-queen-problem-backtracking-3/"
   ]
  },
  {
   "cell_type": "markdown",
   "metadata": {},
   "source": [
    "### Exercise 3.4\n",
    "10. Magic squares A magic square of order n is an arrangement of the integers\n",
    "from 1 to n2 in an n × n matrix, with each number occurring exactly once, so\n",
    "that each row, each column, and each main diagonal has the same sum.\n",
    "\n",
    "a. Prove that if a magic square of order n exists, the sum in question must be\n",
    "equal to n(n2 + 1)/2.\n",
    "\n",
    "b. Design an exhaustive-search algorithm for generating all magic squares of\n",
    "order n.\n",
    "\n",
    "c. Goto the Internet or your library and find a better algorithm for generating\n",
    "magic squares.\n",
    "\n",
    "d. Implement the two algorithms—the exhaustive search and the one you\n",
    "have found—and run an experiment to determine the largest value of n\n",
    "for which each of the algorithms is able to find a magic square of order n\n",
    "in less than 1 minute on your computer.\n",
    "\n",
    "### Look at this website:\n",
    "https://www.geeksforgeeks.org/magic-square/"
   ]
  },
  {
   "cell_type": "markdown",
   "metadata": {},
   "source": [
    "### Note:\n",
    "\n",
    "These exercises are associated to **Graph** which I learned in the later lectures, and we will talk about it soon. \n"
   ]
  },
  {
   "cell_type": "markdown",
   "metadata": {},
   "source": [
    "## 3.5 Depth-First Search and Breadth-First Search"
   ]
  },
  {
   "cell_type": "markdown",
   "metadata": {},
   "source": [
    "### Depth-First Search\n",
    "\n",
    "Depth-first search starts a graph’s traversal at an arbitrary vertex by marking it\n",
    "as visited. On each iteration, the algorithm proceeds to an unvisited vertex that\n",
    "is adjacent to the one it is currently in.\n",
    "\n",
    "This process continues until a dead end—a vertex with no adjacent unvisited vertices—\n",
    "is encountered. At a dead end, the algorithm backs up one edge to the vertex\n",
    "it came from and tries to continue visiting unvisited vertices from there. The\n",
    "algorithm eventually halts after backing up to the starting vertex, with the latter\n",
    "being a dead end. By then, all the vertices in the same connected component as the\n",
    "starting vertex have been visited. If unvisited vertices still remain, the depth-first\n",
    "search must be restarted at any one of them."
   ]
  },
  {
   "cell_type": "markdown",
   "metadata": {},
   "source": [
    " - **NOTE：**\n",
    " \n",
    "    **Depth-First Search:**\n",
    "    \n",
    "    Using **Recursion(Backtrack) and Stack**"
   ]
  },
  {
   "cell_type": "markdown",
   "metadata": {},
   "source": [
    "### DFSUtil(self, v, visited)\n",
    "\n",
    "ALGORITHM \n",
    "\n",
    "//Implements a depth-first search traversal of a given graph\n",
    "\n",
    "//Input: Graph G = <V, E>\n",
    "\n",
    "//Output: Graph G with its vertices marked with consecutive integers\n",
    "\n",
    "// in the order they are first encountered by the DFS traversal\n",
    "mark each vertex in V with FALSE as a mark of being “unvisited”"
   ]
  },
  {
   "cell_type": "markdown",
   "metadata": {},
   "source": [
    "### DFS(self,v)\n",
    "\n",
    "ALGORITHM\n",
    "\n",
    "//visits recursively all the unvisited vertices connected to vertex v\n",
    "\n",
    "//by a path and numbers them in the order they are encountered\n"
   ]
  },
  {
   "cell_type": "code",
   "execution_count": 16,
   "metadata": {},
   "outputs": [],
   "source": [
    "from collections import defaultdict \n",
    "\n",
    "# This class represents a directed graph using adjacency list representation \n",
    "class Graph: \n",
    "\n",
    "    # Constructor \n",
    "    def __init__(self): \n",
    "    # default dictionary to store graph \n",
    "        self.graph = defaultdict(list) \n",
    "\n",
    "    # function to add an edge to graph \n",
    "    def addEdge(self,u,v): \n",
    "        self.graph[u].append(v) \n",
    "\n",
    "    # A function used by DFS \n",
    "    def DFSUtil(self,v,visited): \n",
    "\n",
    "        # Mark the current node as visited and print it \n",
    "        visited[v]= True\n",
    "        print (v), \n",
    "\n",
    "        # Recur for all the vertices adjacent to this vertex \n",
    "        for i in self.graph[v]: \n",
    "            if visited[i] == False: \n",
    "                self.DFSUtil(i, visited) \n",
    "\n",
    "    # The function to do DFS traversal. It uses recursive DFSUtil() \n",
    "    def DFS(self,v): \n",
    "\n",
    "        # Mark all the vertices as not visited \n",
    "        visited = [False]*(len(self.graph)) \n",
    "\n",
    "        # Call the recursive helper function to print DFS traversal \n",
    "        self.DFSUtil(v,visited) \n"
   ]
  },
  {
   "cell_type": "code",
   "execution_count": 17,
   "metadata": {},
   "outputs": [
    {
     "name": "stdout",
     "output_type": "stream",
     "text": [
      "Following is DFS from (starting from vertex 2)\n",
      "2\n",
      "0\n",
      "1\n",
      "3\n"
     ]
    }
   ],
   "source": [
    "# Driver code \n",
    "# Create a graph given in the above diagram \n",
    "g = Graph() \n",
    "g.addEdge(0, 1) \n",
    "g.addEdge(0, 2) \n",
    "g.addEdge(1, 2) \n",
    "g.addEdge(2, 0) \n",
    "g.addEdge(2, 3) \n",
    "g.addEdge(3, 3) \n",
    "\n",
    "print (\"Following is DFS from (starting from vertex 2)\")\n",
    "g.DFS(2) "
   ]
  },
  {
   "cell_type": "markdown",
   "metadata": {},
   "source": [
    "### Breadth-First Search\n",
    "\n",
    "If depth-first search is a traversal for the brave (the algorithm goes as far from\n",
    "“home” as it can), breadth-first search is a traversal for the cautious. It proceeds in\n",
    "a concentric manner by visiting first all the vertices that are adjacent to a starting\n",
    "vertex, then all unvisited vertices two edges apart from it, and so on, until all\n",
    "the vertices in the same connected component as the starting vertex are visited.\n",
    "\n",
    "\n",
    "The queue is initialized with the\n",
    "traversal’s starting vertex, which is marked as visited. On each iteration, the\n",
    "algorithm identifies all unvisited vertices that are adjacent to the front vertex,\n",
    "marks them as visited, and adds them to the queue; after that, the front vertex is\n",
    "removed from the queue."
   ]
  },
  {
   "cell_type": "markdown",
   "metadata": {},
   "source": [
    "- **NOTE:**\n",
    "    \n",
    "    **Breadth-First Search:**\n",
    "    \n",
    "    Using **Loop and Queue**"
   ]
  },
  {
   "cell_type": "markdown",
   "metadata": {},
   "source": [
    "### BFS(self, s)\n",
    "\n",
    "ALGORITHM \n",
    "\n",
    "//Implements a breadth-first search traversal of a given graph\n",
    "\n",
    "//Input: Graph G = <V, E>\n",
    "\n",
    "//Output: Graph G with its vertices marked with consecutive integers in the order they are visited by the BFS traversal\n",
    "mark each vertex in V with FALSE as a mark of being “unvisited”"
   ]
  },
  {
   "cell_type": "code",
   "execution_count": 23,
   "metadata": {},
   "outputs": [],
   "source": [
    "from collections import defaultdict \n",
    "\n",
    "# This class represents a directed graph using adjacency list representation \n",
    "class Graph: \n",
    "\n",
    "    # Constructor \n",
    "    def __init__(self): \n",
    "\n",
    "        # default dictionary to store graph \n",
    "        self.graph = defaultdict(list) \n",
    "\n",
    "    # function to add an edge to graph \n",
    "    def addEdge(self,u,v): \n",
    "        self.graph[u].append(v) \n",
    "\n",
    "    # Function to print a BFS of graph \n",
    "    def BFS(self, s): \n",
    "\n",
    "        # Mark all the vertices as not visited \n",
    "        visited = [False] * (len(self.graph)) \n",
    "\n",
    "        # Create a queue for BFS \n",
    "        queue = [] \n",
    "\n",
    "        # Mark the source node as visited and enqueue it \n",
    "        queue.append(s) \n",
    "        visited[s] = True\n",
    "\n",
    "        while queue: \n",
    "\n",
    "            # Dequeue a vertex from queue and print it \n",
    "            s = queue.pop(0) \n",
    "            print (s, end = \" \") \n",
    "\n",
    "            # Get all adjacent vertices of the dequeued vertex s. \n",
    "            # If a adjacent has not been visited, then mark it visited and enqueue it \n",
    "            for i in self.graph[s]: \n",
    "                if visited[i] == False: \n",
    "                    queue.append(i) \n",
    "                    visited[i] = True\n"
   ]
  },
  {
   "cell_type": "code",
   "execution_count": 24,
   "metadata": {},
   "outputs": [
    {
     "name": "stdout",
     "output_type": "stream",
     "text": [
      "Following is Breadth First Traversal (starting from vertex 2)\n",
      "2 0 3 1 "
     ]
    }
   ],
   "source": [
    "# Driver code \n",
    "\n",
    "# Create a graph given in the above diagram \n",
    "g = Graph() \n",
    "g.addEdge(0, 1) \n",
    "g.addEdge(0, 2) \n",
    "g.addEdge(1, 2) \n",
    "g.addEdge(2, 0) \n",
    "g.addEdge(2, 3) \n",
    "g.addEdge(3, 3) \n",
    "\n",
    "print (\"Following is Breadth First Traversal\"\n",
    "                \" (starting from vertex 2)\") \n",
    "g.BFS(2) "
   ]
  },
  {
   "cell_type": "markdown",
   "metadata": {},
   "source": [
    "### The Knight’s tour problem\n",
    "\n",
    "The knight is placed on the first block of an empty board and, moving according to the rules of chess, must visit each square exactly once."
   ]
  },
  {
   "cell_type": "markdown",
   "metadata": {},
   "source": [
    "- **Backtracking**\n",
    "\n",
    "Backtracking works in an incremental way to attack problems. Typically, we start from an empty solution vector and one by one add items (Meaning of item varies from problem to problem. In context of Knight’s tour problem, an item is a Knight’s move). When we add an item, we check if adding the current item violates the problem constraint, if it does then we remove the item and try other alternatives. If none of the alternatives work out then we go to previous stage and remove the item added in the previous stage. If we reach the initial stage back then we say that no solution exists. If adding an item doesn’t violate constraints then we recursively add items one by one. If the solution vector becomes complete then we print the solution.\n",
    "\n",
    "To see more information about [Backtracking](https://en.wikipedia.org/wiki/Backtracking)."
   ]
  },
  {
   "cell_type": "markdown",
   "metadata": {},
   "source": [
    "The graph abstract data type (ADT) is defined as follows:\n",
    "\n",
    "**Graph()** creates a new, empty graph.\n",
    "\n",
    "**addVertex(vert)** adds an instance of Vertex to the graph.\n",
    "\n",
    "**addEdge(fromVert, toVert)** Adds a new, directed edge to the graph that connects two vertices.\n",
    "\n",
    "**addEdge(fromVert, toVert, weight)** Adds a new, weighted, directed edge to the graph that connects two vertices.\n",
    "\n",
    "**getVertex(vertKey)** finds the vertex in the graph named vertKey.\n",
    "\n",
    "**getVertices()** returns the list of all vertices in the graph.\n",
    "\n",
    "in returns True for a statement of the form vertex in graph, if the given vertex is in the graph, False otherwise."
   ]
  },
  {
   "cell_type": "code",
   "execution_count": 27,
   "metadata": {},
   "outputs": [],
   "source": [
    "\"\"\"\n",
    "Vertex will represent each vertex in the graph\n",
    "Each Vertex uses a dictionary (connectedTo) to keep track of the vertices to which it is connected, \n",
    "and the weight of each edge. \n",
    "\"\"\"\n",
    "\n",
    "class Vertex:\n",
    "    def __init__(self,key):\n",
    "        self.id = key # The constructor simply initializes the id, which will typically be a string\n",
    "        self.connectedTo = {} # and connectedTo dictionary. \n",
    "    \n",
    "    # The addNeighbor method is used add a connection from this vertex to another.\n",
    "    def addNeighbor(self,nbr,weight=0):\n",
    "        self.connectedTo[nbr] = weight\n",
    "\n",
    "    def __str__(self):\n",
    "        return str(self.id) + ' connectedTo: ' + str([x.id for x in self.connectedTo])\n",
    "    \n",
    "    # The getConnections method returns all of the vertices in the adjacency list, \n",
    "    # as represented by the connectedTo instance variable.\n",
    "    def getConnections(self):\n",
    "        return self.connectedTo.keys()\n",
    "\n",
    "    def getId(self):\n",
    "        return self.id\n",
    "\n",
    "    # The getWeight method returns the weight of the edge from this vertex to the vertex passed as a parameter.\n",
    "    def getWeight(self,nbr):\n",
    "        return self.connectedTo[nbr]"
   ]
  },
  {
   "cell_type": "code",
   "execution_count": 28,
   "metadata": {},
   "outputs": [],
   "source": [
    "\"\"\"\n",
    "Graph holds the master list of vertices\n",
    "The Graph class, shown in the next listing, contains a dictionary that maps vertex names to vertex objects. \n",
    "Graph also provides methods for adding vertices to a graph and connecting one vertex to another. \n",
    "\n",
    "\"\"\" \n",
    "class Graph:\n",
    "    def __init__(self):\n",
    "        self.vertList = {}\n",
    "        self.numVertices = 0\n",
    "\n",
    "    def addVertex(self,key):\n",
    "        self.numVertices = self.numVertices + 1\n",
    "        newVertex = Vertex(key)\n",
    "        self.vertList[key] = newVertex\n",
    "        return newVertex\n",
    "\n",
    "    # The getVertices method returns the names of all of the vertices in the graph. \n",
    "    def getVertex(self,n):\n",
    "        if n in self.vertList:\n",
    "            return self.vertList[n]\n",
    "        else:\n",
    "            return None\n",
    "\n",
    "    def __contains__(self,n):\n",
    "        return n in self.vertList\n",
    "\n",
    "    def addEdge(self,f,t,cost=0):\n",
    "        if f not in self.vertList:\n",
    "            nv = self.addVertex(f)\n",
    "        if t not in self.vertList:\n",
    "            nv = self.addVertex(t)\n",
    "        self.vertList[f].addNeighbor(self.vertList[t], cost)\n",
    "\n",
    "    def getVertices(self):\n",
    "        return self.vertList.keys()\n",
    "\n",
    "    def __iter__(self):\n",
    "        return iter(self.vertList.values())"
   ]
  },
  {
   "cell_type": "code",
   "execution_count": 29,
   "metadata": {},
   "outputs": [],
   "source": [
    "# Building the Knight’s Tour Graph\n",
    "def knightGraph(bdSize):\n",
    "    \n",
    "    \"\"\"\n",
    "    To build the full graph for an n-by-n board,The knightGraph function makes one pass over the entire board. \n",
    "    \n",
    "    At each square on the board the knightGraph function calls a helper, genLegalMoves, \n",
    "    to create a list of legal moves for that position on the board. \n",
    "    All legal moves are then converted into edges in the graph. \n",
    "    \n",
    "    Another helper function posToNodeId converts a location on the board in terms of a row and a column into a linear vertex number\n",
    "    \"\"\"\n",
    "    \n",
    "    ktGraph = Graph()\n",
    "    for row in range(bdSize):\n",
    "       for col in range(bdSize):\n",
    "           nodeId = posToNodeId(row,col,bdSize)\n",
    "           newPositions = genLegalMoves(row,col,bdSize)\n",
    "           for e in newPositions:\n",
    "               nid = posToNodeId(e[0],e[1],bdSize)\n",
    "               ktGraph.addEdge(nodeId,nid)\n",
    "    return ktGraph\n",
    "\n",
    "\n",
    "def posToNodeId(row, column, board_size):\n",
    "    \"\"\"\n",
    "    This function converts a location on the board in terms of a row and a column into a linear vertex number\n",
    "    \"\"\"\n",
    "    return (row * board_size) + column\n",
    "\n",
    "\n",
    "def genLegalMoves(x,y,bdSize):\n",
    "    \"\"\"\n",
    "    This function creates a list of legal moves for that position on the board.\n",
    "    \"\"\"\n",
    "    newMoves = []\n",
    "    moveOffsets = [(-1,-2),(-1,2),(-2,-1),(-2,1),\n",
    "                   ( 1,-2),( 1,2),( 2,-1),( 2,1)]\n",
    "    for i in moveOffsets:\n",
    "        newX = x + i[0]\n",
    "        newY = y + i[1]\n",
    "        if legalCoord(newX,bdSize) and \\\n",
    "                        legalCoord(newY,bdSize):\n",
    "            newMoves.append((newX,newY))\n",
    "    return newMoves\n",
    "\n",
    "\n",
    "def legalCoord(x,bdSize):\n",
    "    if x >= 0 and x < bdSize:\n",
    "        return True\n",
    "    else:\n",
    "        return False"
   ]
  },
  {
   "cell_type": "code",
   "execution_count": 34,
   "metadata": {},
   "outputs": [],
   "source": [
    "# Implementing Knight’s Tour\n",
    "\n",
    "def knightTour(n,path,u,limit):\n",
    "    \"\"\"\n",
    "    //Soving the knight's tour problem by depth first search (DFS), thus this function is recursive\n",
    "    \n",
    "    n, the current depth in the search tree;\n",
    "    path, a list of vertices visited up to this point; \n",
    "    u, the vertex in the graph we wish to explore; \n",
    "    limit, the number of nodes in the path. \n",
    "    \n",
    "    \"\"\"\n",
    "    u.setColor('gray')\n",
    "    path.append(u)\n",
    "    if n < limit:\n",
    "        nbrList = list(u.getConnections())\n",
    "        i = 0\n",
    "        done = False\n",
    "        while i < len(nbrList) and not done:\n",
    "            if nbrList[i].getColor() == 'white':\n",
    "                done = knightTour(n+1, path, nbrList[i], limit)\n",
    "            i = i + 1\n",
    "        # In one nbrList (adjacency list), if n < limit and i >= len(nbrList) and not done, prepare to backtrack\n",
    "        if not done:  \n",
    "            path.pop()\n",
    "            u.setColor('white')\n",
    "    # the test n < limit fails so we know that we have exhausted all the nodes in the graph. At this point we can return True.        \n",
    "    else: \n",
    "        done = True\n",
    "    return done"
   ]
  },
  {
   "cell_type": "markdown",
   "metadata": {},
   "source": [
    "To see some other backtracking examples: \n",
    "\n",
    "[Rat in a Maze](https://www.geeksforgeeks.org/rat-in-a-maze-backtracking-2/) \n",
    "\n",
    "[N Queen Problem](https://www.geeksforgeeks.org/n-queen-problem-backtracking-3/)\n"
   ]
  },
  {
   "cell_type": "markdown",
   "metadata": {},
   "source": [
    "To see a visualization of backtracking ( Eight_queens_puzzle ), refer [here](https://en.wikipedia.org/wiki/Eight_queens_puzzle#Exercise_in_algorithm_design)."
   ]
  }
 ],
 "metadata": {
  "kernelspec": {
   "display_name": "Python 3",
   "language": "python",
   "name": "python3"
  },
  "language_info": {
   "codemirror_mode": {
    "name": "ipython",
    "version": 3
   },
   "file_extension": ".py",
   "mimetype": "text/x-python",
   "name": "python",
   "nbconvert_exporter": "python",
   "pygments_lexer": "ipython3",
   "version": "3.6.7"
  }
 },
 "nbformat": 4,
 "nbformat_minor": 2
}
