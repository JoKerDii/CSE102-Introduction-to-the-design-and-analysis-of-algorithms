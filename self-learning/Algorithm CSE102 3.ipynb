{
 "cells": [
  {
   "cell_type": "markdown",
   "metadata": {},
   "source": [
    "# Chapter 2 (2.5 - 2.7) Fundamentals of the Analysis of Algorithm Efficiency\n",
    "\n",
    "### 1. F(n)\n",
    "\n",
    "Compute the factorial function F(n) = n! for an arbitrary nonnegative\n",
    "integer n. Since\n",
    "n!= 1 . . . . . (n − 1) . n = (n − 1)! . n for n ≥ 1\n",
    "and 0!= 1 by definition, we can compute F(n) = F(n − 1) . n with the following\n",
    "recursive algorithm.\n",
    "\n",
    "### ALGORITHM \n",
    "\n",
    "//Computes n! recursively\n",
    "\n",
    "//Input: A nonnegative integer n\n",
    "\n",
    "//Output: The value of n!\n",
    "\n",
    "if n = 0 return 1\n",
    "\n",
    "else return F(n − 1) ∗ n"
   ]
  },
  {
   "cell_type": "code",
   "execution_count": 3,
   "metadata": {},
   "outputs": [],
   "source": [
    "def F(n):\n",
    "    '''Compute the factorial function F(n) = n! for an arbitrary nonnegative integer n. '''\n",
    "    if n == 0:\n",
    "        return 1\n",
    "    else: \n",
    "        return F(n-1) * n"
   ]
  },
  {
   "cell_type": "code",
   "execution_count": 2,
   "metadata": {},
   "outputs": [
    {
     "data": {
      "text/plain": [
       "120"
      ]
     },
     "execution_count": 2,
     "metadata": {},
     "output_type": "execute_result"
    }
   ],
   "source": [
    "F(5)"
   ]
  },
  {
   "cell_type": "markdown",
   "metadata": {},
   "source": [
    "### 2. Tower of Hanoi puzzle\n",
    "\n",
    "As our next example, we consider another educational workhorse\n",
    "of recursive algorithms: the Tower of Hanoi puzzle. In this puzzle, we (or mythical\n",
    "monks, if you do not like to move disks) have n disks of different sizes that can\n",
    "slide onto any of three pegs. Initially, all the disks are on the first peg in order of\n",
    "size, the largest on the bottom and the smallest on top. The goal is to move all the\n",
    "disks to the third peg, using the second one as an auxiliary, if necessary. We can\n",
    "move only one disk at a time, and it is forbidden to place a larger disk on top of a\n",
    "smaller one."
   ]
  },
  {
   "cell_type": "markdown",
   "metadata": {},
   "source": [
    "Rules;\n",
    "\n",
    "Tower of Hanoi is a mathematical puzzle where we have three rods and n disks. The objective of the puzzle is to move the entire stack to another rod, obeying the following simple rules:\n",
    "\n",
    "\n",
    "1) Only one disk can be moved at a time.\n",
    "\n",
    "2) Each move consists of taking the upper disk from one of the stacks and placing it on top of another stack i.e. a disk can only be moved if it is the uppermost disk on a stack.\n",
    "\n",
    "3) No disk may be placed on top of a smaller disk."
   ]
  },
  {
   "cell_type": "code",
   "execution_count": 1,
   "metadata": {},
   "outputs": [
    {
     "name": "stdout",
     "output_type": "stream",
     "text": [
      "[3, 2]\n",
      "[]\n",
      "[1]\n",
      "##############\n",
      "[3]\n",
      "[2]\n",
      "[1]\n",
      "##############\n",
      "[3]\n",
      "[2, 1]\n",
      "[]\n",
      "##############\n",
      "[]\n",
      "[2, 1]\n",
      "[3]\n",
      "##############\n",
      "[1]\n",
      "[2]\n",
      "[3]\n",
      "##############\n",
      "[1]\n",
      "[]\n",
      "[3, 2]\n",
      "##############\n",
      "[]\n",
      "[]\n",
      "[3, 2, 1]\n",
      "##############\n"
     ]
    }
   ],
   "source": [
    "'''\n",
    "One solution from wikipidia\n",
    "'''\n",
    "\n",
    "A = [3, 2, 1]\n",
    "B = []\n",
    "C = []\n",
    "\n",
    "def move(n, source, target, auxiliary):\n",
    "    if n > 0:\n",
    "        # move n - 1 disks from source to auxiliary, so they are out of the way\n",
    "        move(n - 1, source, auxiliary, target)\n",
    "\n",
    "        # move the nth disk from source to target\n",
    "        target.append(source.pop())\n",
    "\n",
    "        # Display our progress\n",
    "        print(A, B, C, '##############', sep = '\\n')\n",
    "\n",
    "        # move the n - 1 disks that we left on auxiliary onto target\n",
    "        move(n - 1, auxiliary, target, source)\n",
    "\n",
    "# initiate call from source A to target C with auxiliary B\n",
    "move(3, A, C, B)"
   ]
  },
  {
   "cell_type": "code",
   "execution_count": 9,
   "metadata": {},
   "outputs": [],
   "source": [
    "def TowerOfHanoi(n , from_rod, to_rod, aux_rod): \n",
    "    '''\n",
    "    Tower of Hanoi puzzle\n",
    "    '''\n",
    "    if n == 1: \n",
    "        print (\"Move disk 1 from rod\",from_rod,\"to rod\",to_rod )\n",
    "        return\n",
    "    # move n - 1 disks from source to auxiliary, so they are out of the way\n",
    "    TowerOfHanoi(n-1, from_rod, aux_rod, to_rod) \n",
    "    print (\"Move disk\",n,\"from rod\",from_rod,\"to rod\",to_rod) \n",
    "    # move the nth disk from source to target\n",
    "    # move the n - 1 disks that we left on auxiliary onto target\n",
    "    TowerOfHanoi(n-1, aux_rod, to_rod, from_rod) "
   ]
  },
  {
   "cell_type": "code",
   "execution_count": 13,
   "metadata": {},
   "outputs": [
    {
     "name": "stdout",
     "output_type": "stream",
     "text": [
      "Move disk 1 from rod A to rod B\n",
      "Move disk 2 from rod A to rod C\n",
      "Move disk 1 from rod B to rod C\n",
      "Move disk 3 from rod A to rod B\n",
      "Move disk 1 from rod C to rod A\n",
      "Move disk 2 from rod C to rod B\n",
      "Move disk 1 from rod A to rod B\n",
      "Move disk 4 from rod A to rod C\n",
      "Move disk 1 from rod B to rod C\n",
      "Move disk 2 from rod B to rod A\n",
      "Move disk 1 from rod C to rod A\n",
      "Move disk 3 from rod B to rod C\n",
      "Move disk 1 from rod A to rod B\n",
      "Move disk 2 from rod A to rod C\n",
      "Move disk 1 from rod B to rod C\n"
     ]
    }
   ],
   "source": [
    "n = 4\n",
    "TowerOfHanoi(n, 'A', 'C', 'B')"
   ]
  },
  {
   "cell_type": "code",
   "execution_count": 12,
   "metadata": {},
   "outputs": [
    {
     "name": "stdout",
     "output_type": "stream",
     "text": [
      "moving disk from A to C\n",
      "moving disk from A to B\n",
      "moving disk from C to B\n",
      "moving disk from A to C\n",
      "moving disk from B to A\n",
      "moving disk from B to C\n",
      "moving disk from A to C\n",
      "moving disk from A to B\n",
      "moving disk from C to B\n",
      "moving disk from C to A\n",
      "moving disk from B to A\n",
      "moving disk from C to B\n",
      "moving disk from A to C\n",
      "moving disk from A to B\n",
      "moving disk from C to B\n"
     ]
    }
   ],
   "source": [
    "'''Alternative solution'''\n",
    "\n",
    "def moveTower(height,fromPole, toPole, withPole):\n",
    "    if height >= 1:\n",
    "        # move n - 1 disks from source to auxiliary, so they are out of the way\n",
    "        moveTower(height-1,fromPole,withPole,toPole)\n",
    "        moveDisk(fromPole,toPole)\n",
    "        # move the nth disk from source to target\n",
    "        # move the n - 1 disks that we left on auxiliary onto target\n",
    "        moveTower(height-1,withPole,toPole,fromPole)\n",
    "\n",
    "def moveDisk(fp,tp):\n",
    "    print(\"moving disk from\",fp,\"to\",tp)\n",
    "\n",
    "moveTower(4,\"A\",\"B\",\"C\")"
   ]
  },
  {
   "cell_type": "markdown",
   "metadata": {},
   "source": [
    "### 3. Random(n, m, seed, a, b)\n",
    "\n",
    "ALGORITHM \n",
    "\n",
    "\n",
    "//Generates a sequence of n pseudorandom numbers according to the linear\n",
    "\n",
    "// congruential method\n",
    "\n",
    "//Input: A positive integer n and positive integer parameters m, seed, a, b\n",
    "\n",
    "//Output: A sequence r1, . . . , rn of n pseudorandom integers uniformly\n",
    "\n",
    "// distributed among integer values between 0 and m − 1\n",
    "\n",
    "//Note: Pseudorandom numbers between 0 and 1 can be obtained\n",
    "\n",
    "// by treating the integers generated as digits after the decimal point\n",
    "\n",
    "r0←seed\n",
    "\n",
    "for i ←1 to n do\n",
    "\n",
    "ri←(a ∗ r_(i−1)+ b) mod m"
   ]
  },
  {
   "cell_type": "code",
   "execution_count": 14,
   "metadata": {},
   "outputs": [],
   "source": [
    "def Random(n,m,seed,a,b): # A positive integer n and positive integer parameters m, seed, a, b\n",
    "    \"\"\"\n",
    "    Generates a sequence of n pseudorandom numbers according to the linear congruential method\n",
    "    \n",
    "    n: a positive integer which is the number of random number\n",
    "    m: a positive integer which limit the maximum of random number (the values are between 0 and m - 1)\n",
    "    seed: a positive integer which is the first number that assigned\n",
    "    a, b: positive numbers\n",
    "    \"\"\"\n",
    "    r = [] \n",
    "    r.append(seed) \n",
    "    for i in range(1, n):\n",
    "        r.append((a * r[i-1] + b) % m)\n",
    "        \n",
    "    return r # A sequence r1, . . . , rn of n pseudorandom integers uniformly distributed among integer values between 0 and m − 1\n"
   ]
  },
  {
   "cell_type": "code",
   "execution_count": 12,
   "metadata": {
    "scrolled": true
   },
   "outputs": [
    {
     "data": {
      "text/plain": [
       "[100, 4, 16, 2, 10, 34, 6, 22, 20, 14]"
      ]
     },
     "execution_count": 12,
     "metadata": {},
     "output_type": "execute_result"
    }
   ],
   "source": [
    "Random(10,50,100,3,4)"
   ]
  },
  {
   "cell_type": "markdown",
   "metadata": {},
   "source": [
    "### Exercise 2.6\n",
    "\n",
    "1. 1. Consider the following well-known sorting algorithm, which is studied later\n",
    "in the book, with a counter inserted to count the number of key comparisons.\n",
    "ALGORITHM SortAnalysis(A[0..n − 1])\n",
    "\n",
    "//Input: An array A[0..n − 1] of n orderable elements\n",
    "\n",
    "//Output: The total number of key comparisons made\n",
    "\n",
    "\n",
    "count ←0\n",
    "\n",
    "for i ←1 to n − 1 do\n",
    "\n",
    "v ←A[i]\n",
    "\n",
    "j ←i − 1\n",
    "\n",
    "while j ≥ 0 and A[j ]> v do\n",
    "\n",
    "count ←count + 1\n",
    "\n",
    "A[j + 1]←A[j ]\n",
    "\n",
    "j ←j − 1\n",
    "\n",
    "A[j + 1]←v\n",
    "\n",
    "return count\n",
    "\n",
    "Is the comparison counter inserted in the right place? If you believe it is, prove it; if you believe it is not, make an appropriate correction."
   ]
  },
  {
   "cell_type": "code",
   "execution_count": 22,
   "metadata": {},
   "outputs": [],
   "source": [
    "def SortAnalysis(A): # A[0..n − 1]\n",
    "    \"\"\"\n",
    "    Input: An array A[0..n − 1] of n orderable elements\n",
    "    Output: The total number of key comparisons made\n",
    "    \"\"\"\n",
    "    count = 0\n",
    "    n =len(A)\n",
    "    for i in range(0,n-1):\n",
    "        v = A[i]\n",
    "        j = i - 1\n",
    "        while j >= 0 and A[j] > v :\n",
    "            count = count + 1\n",
    "            A[j+1] = A[j]\n",
    "            j = j - 1\n",
    "        A[j+1] = v\n",
    "    return count"
   ]
  },
  {
   "cell_type": "code",
   "execution_count": 24,
   "metadata": {},
   "outputs": [
    {
     "data": {
      "text/plain": [
       "9"
      ]
     },
     "execution_count": 24,
     "metadata": {},
     "output_type": "execute_result"
    }
   ],
   "source": [
    "import numpy as np\n",
    "A = np.array([23,45,34,25,46,56,32,45,57,42])\n",
    "SortAnalysis(A)"
   ]
  },
  {
   "cell_type": "markdown",
   "metadata": {},
   "source": [
    "2. a. Run the program of Problem 1, with a properly inserted counter (or counters)\n",
    "for the number of key comparisons, on 20 random arrays of sizes 1000,\n",
    "2000, 3000, . . . , 20,000."
   ]
  },
  {
   "cell_type": "code",
   "execution_count": 33,
   "metadata": {},
   "outputs": [
    {
     "data": {
      "text/plain": [
       "[82,\n",
       " 61,\n",
       " 69,\n",
       " 87,\n",
       " 106,\n",
       " 90,\n",
       " 78,\n",
       " 102,\n",
       " 106,\n",
       " 110,\n",
       " 115,\n",
       " 87,\n",
       " 85,\n",
       " 110,\n",
       " 83,\n",
       " 85,\n",
       " 83,\n",
       " 105,\n",
       " 87,\n",
       " 110]"
      ]
     },
     "execution_count": 33,
     "metadata": {},
     "output_type": "execute_result"
    }
   ],
   "source": [
    "# one = np.random.rand(20) * 1000\n",
    "def testSortAnalysis():\n",
    "    arrays = []\n",
    "    solution = []\n",
    "    for i in range(1,21):\n",
    "        arrays.append(i * 1000)\n",
    "    for j in arrays:\n",
    "        randomArray = np.random.rand(20) * j\n",
    "        solution.append(SortAnalysis(randomArray))\n",
    "    return solution\n",
    "\n",
    "testSortAnalysis()"
   ]
  }
 ],
 "metadata": {
  "kernelspec": {
   "display_name": "Python 3",
   "language": "python",
   "name": "python3"
  },
  "language_info": {
   "codemirror_mode": {
    "name": "ipython",
    "version": 3
   },
   "file_extension": ".py",
   "mimetype": "text/x-python",
   "name": "python",
   "nbconvert_exporter": "python",
   "pygments_lexer": "ipython3",
   "version": "3.6.7"
  }
 },
 "nbformat": 4,
 "nbformat_minor": 2
}
