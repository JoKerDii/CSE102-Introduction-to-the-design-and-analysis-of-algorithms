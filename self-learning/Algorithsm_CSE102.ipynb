{
 "cells": [
  {
   "cell_type": "markdown",
   "metadata": {},
   "source": [
    "# 1. Introduction"
   ]
  },
  {
   "cell_type": "markdown",
   "metadata": {},
   "source": [
    "### 1. Euclid(m, n)\n",
    "\n",
    "ALGORITHM \n",
    "\n",
    "//Computes gcd(m, n) by Euclid’s algorithm\n",
    "\n",
    "//Input: Two nonnegative, not-both-zero integers m and n\n",
    "\n",
    "//Output: Greatest common divisor of m and n\n"
   ]
  },
  {
   "cell_type": "code",
   "execution_count": 37,
   "metadata": {},
   "outputs": [],
   "source": [
    "def gcd(a, b):\n",
    "    \n",
    "    \"\"\"Returns the greatest common divisor of a and b.\n",
    "    Should be implemented using recursion.\n",
    "    \"\"\"\n",
    "    if b > a:\n",
    "        return gcd(b, a)\n",
    "\n",
    "    if a % b == 0:\n",
    "        return b\n",
    "\n",
    "    return gcd(b, a % b)"
   ]
  },
  {
   "cell_type": "code",
   "execution_count": 47,
   "metadata": {},
   "outputs": [],
   "source": [
    "def gcd2(a, b):\n",
    "    \"\"\"\n",
    "    Alternative solution\n",
    "    \"\"\"\n",
    "    if b > a:\n",
    "        return gcd2(b,a)\n",
    "    \n",
    "    if b == 0:\n",
    "        return a\n",
    "    else: \n",
    "        r = a % b\n",
    "        a = b\n",
    "        b = r\n",
    "    return gcd2(a,b)"
   ]
  },
  {
   "cell_type": "code",
   "execution_count": 48,
   "metadata": {
    "scrolled": true
   },
   "outputs": [
    {
     "data": {
      "text/plain": [
       "12"
      ]
     },
     "execution_count": 48,
     "metadata": {},
     "output_type": "execute_result"
    }
   ],
   "source": [
    "gcd(60,24)"
   ]
  },
  {
   "cell_type": "code",
   "execution_count": 49,
   "metadata": {},
   "outputs": [
    {
     "data": {
      "text/plain": [
       "True"
      ]
     },
     "execution_count": 49,
     "metadata": {},
     "output_type": "execute_result"
    }
   ],
   "source": [
    "gcd2(60,24) == gcd(60,24)"
   ]
  },
  {
   "cell_type": "markdown",
   "metadata": {},
   "source": [
    "### 2. SieveOfEratosthenes(n)\n",
    "\n",
    "ALGORITHM \n",
    "\n",
    "//Implements the sieve of Eratosthenes\n",
    "\n",
    "//Input: A positive integer n > 1\n",
    "\n",
    "//Output: Array L of all prime numbers less than or equal to n\n",
    "\n"
   ]
  },
  {
   "cell_type": "code",
   "execution_count": 13,
   "metadata": {},
   "outputs": [],
   "source": [
    "\n",
    "def SieveOfEratosthenes(n): \n",
    "      \n",
    "    \"\"\"Create a boolean array \"prime[0..n]\" and initialize \n",
    "     all entries it as true. A value in prime[i] will \n",
    "    finally be false if i is Not a prime, else true.\n",
    "    \"\"\" \n",
    "    prime = [True for i in range(n+1)] \n",
    "    p = 2\n",
    "    while (p * p <= n): \n",
    "          \n",
    "        # If prime[p] is not changed, then it is a prime \n",
    "        if (prime[p] == True): \n",
    "              \n",
    "            # Update all multiples of p \n",
    "            for i in range(p * 2, n+1, p): \n",
    "                prime[i] = False\n",
    "        p += 1\n",
    "      \n",
    "    # Print all prime numbers \n",
    "    for p in range(2, n): \n",
    "        if prime[p]: \n",
    "            print(p)\n",
    "  "
   ]
  },
  {
   "cell_type": "code",
   "execution_count": 12,
   "metadata": {},
   "outputs": [
    {
     "name": "stdout",
     "output_type": "stream",
     "text": [
      "2\n",
      "3\n",
      "5\n",
      "7\n",
      "11\n",
      "13\n",
      "17\n",
      "19\n",
      "23\n",
      "29\n"
     ]
    }
   ],
   "source": [
    "SieveOfEratosthenes(30)"
   ]
  },
  {
   "cell_type": "markdown",
   "metadata": {},
   "source": [
    "### Exercise 1.1 \n",
    "\n",
    "4. Design an algorithm for computing floor of sqrt(n) for any positive integer n. Besides assignment and comparison, your algorithm may only use the four basic arithmetical operations.\n",
    "\n",
    "\n",
    "A Simple Solution to find floor of square root is to try all numbers starting from 1. For every tried number i, if i* i is smaller than x, then increment i. We stop when i* i becomes more than or equal to x. Below is the implementation of above idea.\n"
   ]
  },
  {
   "cell_type": "code",
   "execution_count": 17,
   "metadata": {},
   "outputs": [],
   "source": [
    "# Returns floor of square root of x \n",
    "def floorSqrt(x): \n",
    "  \n",
    "    # Base cases \n",
    "    if (x == 0 or x == 1): \n",
    "        return x \n",
    "  \n",
    "    # Staring from 1, try all numbers until \n",
    "    # i*i is greater than or equal to x. \n",
    "    i = 1; result = 1\n",
    "    while (result <= x): \n",
    "      \n",
    "        i += 1\n",
    "        result = i * i \n",
    "      \n",
    "    return i - 1\n"
   ]
  },
  {
   "cell_type": "code",
   "execution_count": 18,
   "metadata": {},
   "outputs": [
    {
     "data": {
      "text/plain": [
       "3"
      ]
     },
     "execution_count": 18,
     "metadata": {},
     "output_type": "execute_result"
    }
   ],
   "source": [
    "floorSqrt(11)"
   ]
  },
  {
   "cell_type": "markdown",
   "metadata": {},
   "source": [
    "Additional Searching:\n",
    "\n",
    "### Babylonian method for square root\n",
    "\n",
    "Algorithm:\n",
    "\n",
    "This method can be derived from (but predates) Newton–Raphson method.\n",
    "\n",
    "1 Start with an arbitrary positive start value x (the closer to the root, the better).\n",
    "\n",
    "2 Initialize y = 1.\n",
    "\n",
    "3. Do following until desired approximation is achieved.\n",
    "\n",
    "a) Get the next approximation for root using average of x and y\n",
    "\n",
    "b) Set y = n/x"
   ]
  },
  {
   "cell_type": "code",
   "execution_count": 19,
   "metadata": {},
   "outputs": [],
   "source": [
    "def squareRoot(n): \n",
    "  \n",
    "    # We are using n itself as \n",
    "    # initial approximation This \n",
    "    # can definitely be improved  \n",
    "        x = n \n",
    "        y = 1\n",
    "          \n",
    "        # e decides the accuracy level \n",
    "        e = 0.000001\n",
    "        while(x - y > e): \n",
    "      \n",
    "            x = (x + y)/2\n",
    "            y = n/x \n",
    "      \n",
    "        return x "
   ]
  },
  {
   "cell_type": "code",
   "execution_count": 20,
   "metadata": {},
   "outputs": [
    {
     "data": {
      "text/plain": [
       "3.162277665175675"
      ]
     },
     "execution_count": 20,
     "metadata": {},
     "output_type": "execute_result"
    }
   ],
   "source": [
    "squareRoot(10)"
   ]
  },
  {
   "cell_type": "markdown",
   "metadata": {},
   "source": [
    "### Exercise 1.1 \n",
    "\n",
    "5. Design an algorithm to find all the common elements in two sorted lists of numbers. For example, for the lists 2, 5, 5, 5 and 2, 2, 3, 5, 5, 7, the output should be 2, 5, 5.What is the maximum number of comparisons your algorithm makes if the lengths of the two given lists are m and n, respectively?"
   ]
  },
  {
   "cell_type": "code",
   "execution_count": 22,
   "metadata": {},
   "outputs": [],
   "source": [
    "def printUnionList(a, b):\n",
    "    \"\"\"\n",
    "    a and b are two different lists, notice that there can be repetitive elements in each of them.\n",
    "    \n",
    "    \"\"\"\n",
    "    ia = 0\n",
    "    ib = 0\n",
    "    output = []\n",
    "    while ia < len(a) and ib < len(b):\n",
    "        if a[ia] < b[ib]:\n",
    "            ia += 1\n",
    "        elif a[ia] > b[ib]: \n",
    "            ib += 1\n",
    "        else: # they are equal\n",
    "            output.append(a[ia])\n",
    "            ia += 1\n",
    "            ib += 1\n",
    "        \n",
    "    return output"
   ]
  },
  {
   "cell_type": "code",
   "execution_count": 23,
   "metadata": {},
   "outputs": [
    {
     "data": {
      "text/plain": [
       "[2, 5, 5]"
      ]
     },
     "execution_count": 23,
     "metadata": {},
     "output_type": "execute_result"
    }
   ],
   "source": [
    "a = [2, 5, 5, 5]\n",
    "b = [2, 2, 3, 5, 5, 7]\n",
    "printUnionList(a, b)"
   ]
  },
  {
   "cell_type": "markdown",
   "metadata": {},
   "source": [
    "### Additional Searching\n",
    "\n",
    "To find union of two sorted arrays, follow the following merge procedure :\n",
    "\n",
    "Notice that arrays contain no repetitive elements.\n",
    "\n",
    "####\n",
    "\n",
    "\n",
    "1) Use two index variables i and j, initial values i = 0, j = 0\n",
    "\n",
    "2) If arr1[i] is smaller than arr2[j] then print arr1[i] and increment i.\n",
    "\n",
    "3) If arr1[i] is greater than arr2[j] then print arr2[j] and increment j.\n",
    "\n",
    "4) If both are same then print any of them and increment both i and j.\n",
    "\n",
    "5) Print remaining elements of the larger array.\n",
    "\n"
   ]
  },
  {
   "cell_type": "code",
   "execution_count": 26,
   "metadata": {},
   "outputs": [],
   "source": [
    "def printUnion(arr1, arr2, m, n): \n",
    "    i,j = 0,0\n",
    "    while i < m and j < n: \n",
    "        if arr1[i] < arr2[j]: \n",
    "            print(arr1[i]) \n",
    "            i += 1\n",
    "        elif arr2[j] < arr1[i]: \n",
    "            print(arr2[j]) \n",
    "            j+= 1\n",
    "        else: \n",
    "            print(arr2[j]) \n",
    "            j += 1\n",
    "            i += 1\n",
    "  \n",
    "    # Print remaining elements of the larger array \n",
    "    while i < m: \n",
    "        print(arr1[i]) \n",
    "        i += 1\n",
    "  \n",
    "    while j < n: \n",
    "        print(arr2[j]) \n",
    "        j += 1\n"
   ]
  },
  {
   "cell_type": "code",
   "execution_count": 27,
   "metadata": {
    "scrolled": true
   },
   "outputs": [
    {
     "name": "stdout",
     "output_type": "stream",
     "text": [
      "1\n",
      "2\n",
      "3\n",
      "4\n",
      "5\n",
      "6\n",
      "7\n"
     ]
    }
   ],
   "source": [
    "  \n",
    "# Driver program to test above function \n",
    "arr1 = [1, 2, 4, 5, 6] \n",
    "arr2 = [2, 3, 5, 7] \n",
    "m = len(arr1) \n",
    "n = len(arr2) \n",
    "printUnion(arr1, arr2, m, n) "
   ]
  },
  {
   "cell_type": "markdown",
   "metadata": {},
   "source": [
    "### Exercise 1.1\n",
    "\n",
    "11. The extended Euclid’s algorithm determines not only the greatest common\n",
    "divisor d of two positive integers m and n but also integers (not necessarily\n",
    "positive) x and y, such that mx + ny = d.\n",
    "\n",
    "\n",
    "a. Look up a description of the extended Euclid’s algorithm (see, e.g., [KnuI,\n",
    "p. 13]) and implement it in the language of your choice.\n",
    "\n",
    "\n",
    "b. Modify your program to find integer solutions to the Diophantine equation\n",
    "ax + by = c with any set of integer coefficients a, b, and c."
   ]
  },
  {
   "cell_type": "markdown",
   "metadata": {},
   "source": [
    "### The Bézout's identity\n",
    "\n",
    "\n",
    "The Bézout's identity states that given two numbers a and b, passed as arguments to the gcd function, we can be sure that d = gcd(a,b) if and only if there are two integers x and y such that the identity:\n",
    "\n",
    "d = ax + by\n",
    "\n",
    "holds.\n",
    "\n",
    "This is, in very simple terms, the Bézout's identity. (An outline of a proof might be found online)\n",
    "\n",
    "What our extended Euclid's algorithm will allows us to do is to simultaneously find the value of d = gcd(a,b) and the values of x and y that actually \"solve\" (verify) the Bézout's identity."
   ]
  },
  {
   "cell_type": "markdown",
   "metadata": {},
   "source": [
    "### Illustration of the algorithm:\n",
    "\n",
    "### In egcd(a,b):\n",
    "\n",
    "a = b * x1 + d1 \n",
    "\n",
    "b = d1 * x2 + d2\n",
    "\n",
    "d1 = d2 * x3 + d3\n",
    "\n",
    "\n",
    "\n",
    "### if \n",
    "\n",
    "d3 == 0\n",
    "\n",
    "### then the outcome is \n",
    "\n",
    "d2\n",
    "\n",
    "\n",
    "### Since:\n",
    "\n",
    "d1 = a - b * x1\n",
    "\n",
    "b = d1 * x2 + d2\n",
    "\n",
    "d3 = 0\n",
    "\n",
    "### thus,\n",
    "\n",
    "b = (a - b * x1) * x2 + d2 = a * x2 - b * x1 * x2 + d2\n",
    "\n",
    "d2 = b(1 + x1 * x2) - a * x2 \n",
    "\n",
    "Let - x2 = x, (1 + x1 * x2) = y,\n",
    "\n",
    "d2 = by + ax\n",
    "\n",
    "### where, \n",
    "\n",
    "\n",
    "y = 1 - x * x1\n",
    "\n",
    "x1 = b // a\n"
   ]
  },
  {
   "cell_type": "code",
   "execution_count": 3,
   "metadata": {},
   "outputs": [],
   "source": [
    "def egcd(a, b):\n",
    "    if a == 0:\n",
    "        return (b, 0, 1)\n",
    "    else:\n",
    "        g, y, x = egcd(b % a, a)\n",
    "    return (g, x - (b // a) * y, y)"
   ]
  },
  {
   "cell_type": "code",
   "execution_count": 4,
   "metadata": {
    "scrolled": true
   },
   "outputs": [
    {
     "data": {
      "text/plain": [
       "(12, 1, -2)"
      ]
     },
     "execution_count": 4,
     "metadata": {},
     "output_type": "execute_result"
    }
   ],
   "source": [
    "egcd(60,24)"
   ]
  },
  {
   "cell_type": "markdown",
   "metadata": {},
   "source": [
    "### Exercise 1.1\n",
    "\n",
    "12. Locker doors There are n lockers in a hallway, numbered sequentially from\n",
    "1 to n. Initially, all the locker doors are closed. You make n passes by the\n",
    "lockers, each time starting with locker #1. On the ith pass, i = 1, 2, . . . , n, you\n",
    "toggle the door of every ith locker: if the door is closed, you open it; if it is\n",
    "open, you close it. After the last pass, which locker doors are open and which\n",
    "are closed? How many of them are open?"
   ]
  },
  {
   "cell_type": "markdown",
   "metadata": {},
   "source": [
    "Input\n",
    "\n",
    "a positive numbers n, total doors. n<=100000\n",
    "\n",
    "Output\n",
    "\n",
    "a positive numbers ，the total of doors opened after the last pass.\n",
    "\n",
    "Sample Input\n",
    "\n",
    "10\n",
    "\n",
    "Sample Output\n",
    "\n",
    "3\n",
    "\n",
    "Solution:\n",
    "ALGORITHM Lockerdoors(n)\n",
    "          //Solve the Lockerdoors problem\n",
    "          //Input: An positive interger n\n",
    "          //Output: An nonnegative interger m of the total of doors opened after the last pass"
   ]
  },
  {
   "cell_type": "code",
   "execution_count": 15,
   "metadata": {},
   "outputs": [],
   "source": [
    "def Lockerdoors(n):\n",
    "    Door = [] \n",
    "    for i in range(0,n):\n",
    "        Door.append(True) # if the door is open then it is true\n",
    "        \n",
    "    for i in range(1,n): \n",
    "        for j in range(i,n):\n",
    "            if j % i == 0: # manipulate the every i-th door \n",
    "                Door[j] = not Door[j] # if it is true then false, if it is false then true\n",
    "                \n",
    "    Count = 0\n",
    "    for i in range(1,n):\n",
    "        if Door[j]: # count the doors which are open \n",
    "            Count = Count + 1\n",
    "    return Count # return the number of open doors\n"
   ]
  },
  {
   "cell_type": "code",
   "execution_count": 13,
   "metadata": {},
   "outputs": [
    {
     "name": "stdout",
     "output_type": "stream",
     "text": [
      "5\n"
     ]
    }
   ],
   "source": [
    "print(Lockerdoors(6))"
   ]
  },
  {
   "cell_type": "markdown",
   "metadata": {},
   "source": [
    "### Exercise 1.2\n",
    "\n",
    "\n",
    "9. Consider the following algorithm for finding the distance between the two\n",
    "closest elements in an array of numbers. Make as many improvements as you can in this algorithmic solution to the\n",
    "problem. If you need to, you may change the algorithm altogether; if not,\n",
    "improve the implementation given."
   ]
  },
  {
   "cell_type": "markdown",
   "metadata": {},
   "source": [
    "### Brute Force Approach: \n",
    "\n",
    "The simplest approach is to find all pair of indexes of minimum element and calculate minimum distance.\n",
    "Time Complexity: O(n^2), where n is the total number of elements in the array.\n",
    "\n",
    "### Efficient Approach: \n",
    "\n",
    "An efficient approach will be to observe that distance between index j and i will always be smaller than distance between indexes k and i where, k is greater than j. That is we only have to check distance between consecutive pairs of minimum elements and not all pairs. Below is the step by step algorithm:\n",
    "\n",
    "Find the minimum element in the array\n",
    "Find all occurrences of minimum element in the array and insert the indexes in a new array or list or vector.\n",
    "Check if size of the list of indexes is greater than one or not, i.e. the minimum element occurs atleast twice. If not than return -1.\n",
    "Traverse the list of indexes and calculate the minimum difference between any two consecutive indexes."
   ]
  },
  {
   "cell_type": "markdown",
   "metadata": {},
   "source": [
    "Input : arr[] = {5, 1, 2, 3, 4, 1, 2, 1}\n",
    "\n",
    "Output : 2\n",
    "\n",
    "Explanation: The minimum element 1 occurs at indexes: 1, 5 and 7. So the minimum distance is 7-5 = 2.\n",
    "\n",
    "Input : arr[] = {1, 2, 1}\n",
    "\n",
    "Output : 2"
   ]
  },
  {
   "cell_type": "code",
   "execution_count": 3,
   "metadata": {},
   "outputs": [],
   "source": [
    "# between two closest minimum \n",
    "import sys  \n",
    "  \n",
    "# function to find Distance between \n",
    "# two closest minimum \n",
    "def findClosestMin(arr, n): \n",
    "      \n",
    "    #assigning maximum value in python \n",
    "    min = sys.maxsize \n",
    "      \n",
    "      \n",
    "    for i in range(0, n): \n",
    "        if (arr[i] < min): \n",
    "            min = arr[i] \n",
    "  \n",
    "    # list in python to store indexes  \n",
    "    # of occurrences of minimum element \n",
    "    # in the array \n",
    "    indexes = [] \n",
    "  \n",
    "    # store indexes of occurrences \n",
    "    # of minimum element in the array \n",
    "    for i in range(0, n): \n",
    "        if (arr[i] == min): \n",
    "            indexes.append(i) \n",
    "  \n",
    "    # if minimum element doesnot occurs \n",
    "    #  atleast two times, return -1. \n",
    "    if (len(indexes) < 2): \n",
    "        return -1\n",
    "  \n",
    "    min_dist = sys.maxsize \n",
    "  \n",
    "    # calculate minimum difference between \n",
    "    # any two consecutive indexes \n",
    "    for i in range(1, len(indexes)): \n",
    "        if ((indexes[i] - indexes[i - 1]) < min_dist): \n",
    "            min_dist = (indexes[i] - indexes[i - 1]); \n",
    "  \n",
    "    return min_dist; \n",
    "  \n"
   ]
  },
  {
   "cell_type": "code",
   "execution_count": 2,
   "metadata": {},
   "outputs": [
    {
     "name": "stdout",
     "output_type": "stream",
     "text": [
      "2\n"
     ]
    }
   ],
   "source": [
    "# Test\n",
    "arr = [ 5, 1, 2, 3, 4, 1, 2, 1 ] \n",
    "ans = findClosestMin(arr, 8) \n",
    "print (ans) "
   ]
  },
  {
   "cell_type": "markdown",
   "metadata": {},
   "source": [
    "### Exercise 1.3\n",
    "1. Consider the algorithm for the sorting problem that sorts an array by counting,\n",
    "for each of its elements, the number of smaller elements and then uses this\n",
    "information to put the element in its appropriate position in the sorted array:\n",
    "\n",
    "a. Apply this algorithm to sorting the list 60, 35, 81, 98, 14, 47.\n",
    "\n",
    "b. Is this algorithm stable?\n",
    "\n",
    "c. Is it in-place?"
   ]
  },
  {
   "cell_type": "code",
   "execution_count": 30,
   "metadata": {},
   "outputs": [],
   "source": [
    "def ComparisonCountingSort(arr,n):\n",
    "    Count = [] # To store the indexes of sorted numbers\n",
    "    S = [] # The output of sorted numbers\n",
    "    \n",
    "    for i in range(0,n): # Assign the array of Count with length(arr) numbers of 0\n",
    "        Count.append(0)\n",
    "    \n",
    "    for i in range(0,n): # Assign the array of S with length(arr) numbers of 0\n",
    "        S.append(0)\n",
    "        \n",
    "    for i in range(0,n-1): # To compare the i-th number with others\n",
    "        for j in range(i+1,n): # To compare the number other than the i-th one to the i-th one\n",
    "            if arr[i]<arr[j]: # if the sequence is correct then the i-th compares the next one\n",
    "                Count[j] = Count[j] + 1 \n",
    "            else:\n",
    "                Count[i] = Count[i] + 1 # Otherwise, that is, if the one other than the i-th one is smaller than the i-th, \n",
    "                                        # change the index of the smaller number to i\n",
    "                \n",
    "    for i in range(0,n):\n",
    "        S[Count[i]] = arr[i] # Finally, put the number from arr to S array \n",
    "                             # with the correct index which has been already stored in Count array         \n",
    "    return S"
   ]
  },
  {
   "cell_type": "code",
   "execution_count": 31,
   "metadata": {},
   "outputs": [
    {
     "data": {
      "text/plain": [
       "[14, 35, 47, 60, 81, 98]"
      ]
     },
     "execution_count": 31,
     "metadata": {},
     "output_type": "execute_result"
    }
   ],
   "source": [
    "# Test\n",
    "arr1 = [60, 35, 81, 98, 14, 47]\n",
    "ComparisonCountingSort(arr1,6)"
   ]
  },
  {
   "cell_type": "markdown",
   "metadata": {},
   "source": [
    "### Exercise 1.4\n",
    "3. \n",
    "\n",
    "a. Show the stack after each operation of the following sequence that starts\n",
    "with the empty stack:\n",
    "\n",
    "push(a), push(b), pop, push(c), push(d), pop\n",
    "\n",
    "b. Show the queue after each operation of the following sequence that starts\n",
    "with the empty queue:\n",
    "\n",
    "enqueue(a), enqueue(b), dequeue, enqueue(c), enqueue(d), dequeue"
   ]
  },
  {
   "cell_type": "code",
   "execution_count": 44,
   "metadata": {},
   "outputs": [],
   "source": [
    "\"\"\"\n",
    "A stack is a list in which insertions and deletions can be done only at the end.\n",
    "The structure operates in a “last-in–first-out” (LIFO) fashion ——\n",
    "exactly like a stack of plates if we can add or remove a plate only from the top.\n",
    "\n",
    "\"\"\"\n",
    "\n",
    "class Stack:\n",
    "     def __init__(self):\n",
    "         self.items = []\n",
    "\n",
    "     def isEmpty(self):\n",
    "         return self.items == []\n",
    "\n",
    "     def push(self, item):\n",
    "         self.items.append(item)\n",
    "\n",
    "     def pop(self):\n",
    "         return self.items.pop()\n",
    "\n",
    "     def peek(self):\n",
    "         return self.items[len(self.items)-1]\n",
    "\n",
    "     def size(self):\n",
    "         return len(self.items)\n"
   ]
  },
  {
   "cell_type": "code",
   "execution_count": 38,
   "metadata": {},
   "outputs": [
    {
     "name": "stdout",
     "output_type": "stream",
     "text": [
      "True\n",
      "dog\n",
      "3\n",
      "False\n",
      "8.4\n",
      "True\n",
      "2\n"
     ]
    }
   ],
   "source": [
    "\n",
    "s=Stack()\n",
    "\n",
    "print(s.isEmpty())\n",
    "s.push(4)\n",
    "s.push('dog')\n",
    "print(s.peek())\n",
    "s.push(True)\n",
    "print(s.size())\n",
    "print(s.isEmpty())\n",
    "s.push(8.4)\n",
    "print(s.pop())\n",
    "print(s.pop())\n",
    "print(s.size())\n"
   ]
  },
  {
   "cell_type": "code",
   "execution_count": 45,
   "metadata": {},
   "outputs": [],
   "source": [
    "\"\"\"\n",
    "A queue, on the other hand, is a list from which elements are deleted from\n",
    "one end of the structure, called the front (this operation is called dequeue),\n",
    "and new elements are added to the other end, called the rear (this operation is\n",
    "called enqueue). Consequently, a queue operates in a “first-in–first-out” (FIFO)\n",
    "fashion—akin to a queue of customers served by a single teller in a bank. Queues\n",
    "also have many important applications, including several algorithms for graph\n",
    "problems.\n",
    "\n",
    "\"\"\"\n",
    "\n",
    "class Queue:\n",
    "    def __init__(self):\n",
    "        self.items = []\n",
    "\n",
    "    def isEmpty(self):\n",
    "        return self.items == []\n",
    "\n",
    "    def enqueue(self, item):\n",
    "        self.items.insert(0,item)\n",
    "\n",
    "    def dequeue(self):\n",
    "        return self.items.pop()\n",
    "\n",
    "    def size(self):\n",
    "        return len(self.items)"
   ]
  },
  {
   "cell_type": "code",
   "execution_count": 43,
   "metadata": {},
   "outputs": [
    {
     "name": "stdout",
     "output_type": "stream",
     "text": [
      "3\n"
     ]
    }
   ],
   "source": [
    "q=Queue()\n",
    "q.enqueue(4)\n",
    "q.enqueue(\"dog\")\n",
    "q.enqueue(True)\n",
    "print(q.size())"
   ]
  }
 ],
 "metadata": {
  "kernelspec": {
   "display_name": "Python 3",
   "language": "python",
   "name": "python3"
  },
  "language_info": {
   "codemirror_mode": {
    "name": "ipython",
    "version": 3
   },
   "file_extension": ".py",
   "mimetype": "text/x-python",
   "name": "python",
   "nbconvert_exporter": "python",
   "pygments_lexer": "ipython3",
   "version": "3.6.7"
  }
 },
 "nbformat": 4,
 "nbformat_minor": 2
}
