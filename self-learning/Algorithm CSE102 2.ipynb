{
 "cells": [
  {
   "cell_type": "markdown",
   "metadata": {},
   "source": [
    "# 2. Fundamentals of the Analysis of Algorithm Efficiency"
   ]
  },
  {
   "cell_type": "markdown",
   "metadata": {},
   "source": [
    "### 1. SequentialSearch(A[0..n − 1], K)\n",
    "\n",
    "### ALGORITHM \n",
    "\n",
    "\n",
    "\n",
    "//Searches for a given value in a given array by sequential search\n",
    "\n",
    "//Input: An array A[0..n − 1] and a search key K\n",
    "\n",
    "//Output: The index of the first element in A that matches K\n",
    "\n",
    "// or −1 if there are no matching elements"
   ]
  },
  {
   "cell_type": "code",
   "execution_count": 3,
   "metadata": {},
   "outputs": [],
   "source": [
    "def sequentialSearch(alist, item):\n",
    "    \"\"\"\n",
    "    Searches for a given value in a given array by sequential search\n",
    "    \"\"\"\n",
    "    pos = 0\n",
    "    found = False\n",
    "    \n",
    "    while pos < len(alist) and not found: \n",
    "        if alist[pos] == item: \n",
    "            found = True # found the item\n",
    "        else:\n",
    "            pos = pos + 1 # if not find the item, then look at the next one\n",
    "    return found # return whether the item is found\n"
   ]
  },
  {
   "cell_type": "code",
   "execution_count": 5,
   "metadata": {},
   "outputs": [
    {
     "name": "stdout",
     "output_type": "stream",
     "text": [
      "False\n",
      "True\n"
     ]
    }
   ],
   "source": [
    "testlist = [1,2,32,8,17, 19, 42, 13, 0]\n",
    "print(sequentialSearch(testlist, 3))\n",
    "print(sequentialSearch(testlist, 13))"
   ]
  },
  {
   "cell_type": "markdown",
   "metadata": {},
   "source": [
    "### Exercise 2.2\n",
    "\n",
    "12. Door in a wall You are facing a wall that stretches infinitely in both directions.\n",
    "There is a door in the wall, but you know neither how far away nor in\n",
    "which direction. You can see the door only when you are right next to it. Design\n",
    "an algorithm that enables you to reach the door by walking at most O(n)\n",
    "steps where n is the (unknown to you) number of steps between your initial\n",
    "position and the door. [Par95]"
   ]
  },
  {
   "cell_type": "markdown",
   "metadata": {},
   "source": [
    "For this problem I am assuming the wall is divided into discrete intervals, let's call them steps. Then, we can assume that we can see the door when it is in front of us as well as when it is right next to us on either side. Thus, if we are at step i, we can see the door when if it is either on steps i-1, i, or i+1.\n",
    "\n",
    "At iteration = 1, we can see steps (-1, 0, 1)\n",
    "\n",
    "At iteration = 2, we move left to step -3 where we can see steps (-4, -3, -2)\n",
    "\n",
    "At iteration = 3, we move right to step 3 where we can see steps (2, 3, 4)\n",
    "\n",
    "At iteration = 4, we move left to step -6 where we can see steps (-7, -6, -5)\n",
    "\n",
    "At iteration = 5, we move right to step 6 where we can see steps (5, 6, 7)\n",
    "\n",
    "and so on...\n",
    "\n",
    "\n",
    "Then the at any given iteration i we will be located at a step in the series"
   ]
  },
  {
   "cell_type": "code",
   "execution_count": 10,
   "metadata": {},
   "outputs": [],
   "source": [
    "def findDoor(Door):\n",
    "    \"\"\"\n",
    "    Reach the door and calculate the number of steps between your initial position and the door\n",
    "    \"\"\"\n",
    "    steps= 0\n",
    "    i = 1\n",
    "    Found = False\n",
    "    while Found == False:\n",
    "        steps = steps + ((-1)**i) * i # The length of steps is increasing one by one and goes toward right and left repeatedly\n",
    "                                      # We can see the door when if it is either on steps i-1, i, or i+1. \n",
    "        if steps - 1 <= Door & Door <= steps + 1: # When the door can be detected which means the position of door is within the range\n",
    "            Found = True # while Found is true, stop the while loop\n",
    "        i = i + 1 # add up one by one\n",
    "    return 3 * steps # calculate the total steps before the door is detected\n",
    "    "
   ]
  },
  {
   "cell_type": "code",
   "execution_count": 13,
   "metadata": {},
   "outputs": [
    {
     "name": "stdout",
     "output_type": "stream",
     "text": [
      "27\n"
     ]
    }
   ],
   "source": [
    "Door = 10\n",
    "print(findDoor(Door))"
   ]
  },
  {
   "cell_type": "markdown",
   "metadata": {},
   "source": [
    "### 2. MaxElement(A[0..n − 1])\n",
    "\n",
    "Consider the problem of finding the value of the largest element\n",
    "in a list of n numbers. For simplicity, we assume that the list is implemented as\n",
    "an array. The following is pseudocode of a standard algorithm for solving the\n",
    "problem.\n",
    "\n",
    "### ALGORITHM \n",
    "\n",
    "//Determines the value of the largest element in a given array\n",
    "\n",
    "//Input: An array A[0..n − 1] of real numbers\n",
    "\n",
    "//Output: The value of the largest element in A\n",
    "\n",
    "maxval ←A[0]\n",
    "\n",
    "for i ←1 to n − 1 do\n",
    "\n",
    "if A[i]>maxval\n",
    "\n",
    "maxval←A[i]\n",
    "\n",
    "return maxval"
   ]
  },
  {
   "cell_type": "code",
   "execution_count": 22,
   "metadata": {},
   "outputs": [],
   "source": [
    "def MaxElement(arr):\n",
    "    \"\"\"\n",
    "    Determines the value of the largest element in a given array\n",
    "    \"\"\"\n",
    "    maxval = arr[0] # assume that the first number in the array is the largest value\n",
    "    n = len(arr) # n is the length of the input array\n",
    "    for i in range(1,n): \n",
    "        if arr[i] > maxval: \n",
    "            maxval = arr[i]  # update the max value to the maxval variable\n",
    "    return maxval # return the max value in the array\n"
   ]
  },
  {
   "cell_type": "code",
   "execution_count": 24,
   "metadata": {},
   "outputs": [
    {
     "data": {
      "text/plain": [
       "46"
      ]
     },
     "execution_count": 24,
     "metadata": {},
     "output_type": "execute_result"
    }
   ],
   "source": [
    "arr = [1,4,9,3,6,13,46]\n",
    "MaxElement(arr)"
   ]
  },
  {
   "cell_type": "markdown",
   "metadata": {},
   "source": [
    "### 3. UniqueElements(A[0..n − 1])\n",
    "\n",
    "Consider the element uniqueness problem: check whether all the\n",
    "elements in a given array of n elements are distinct. This problem can be solved\n",
    "by the following straightforward algorithm.\n",
    "\n",
    "\n",
    "### ALGORITHM \n",
    "\n",
    "//Determines whether all the elements in a given array are distinct\n",
    "\n",
    "//Input: An array A[0..n − 1]\n",
    "\n",
    "//Output: Returns “true” if all the elements in A are distinct\n",
    "\n",
    "// and “false” otherwise\n",
    "\n",
    "for i ←0 to n − 2 do\n",
    "\n",
    "for j ←i + 1 to n − 1 do\n",
    "\n",
    "if A[i]= A[j ] return false\n",
    "\n",
    "return true"
   ]
  },
  {
   "cell_type": "code",
   "execution_count": 27,
   "metadata": {},
   "outputs": [],
   "source": [
    " def UniqueElements(arr): \n",
    "    \"\"\"\n",
    "    Determines whether all the elements in a given array are distinct\n",
    "    \"\"\"    \n",
    "    distinct = True # assume that the array is distinct and let's check\n",
    "    n = len(arr)\n",
    "    for i in range(0,n-1): # only the elements behind the checking one are needed to be checked\n",
    "        for j in range(i+1,n):\n",
    "            if arr[i] == arr[j]: # if the same ones are found, then this array is not distinct\n",
    "                distinct = False\n",
    "                return distinct # return if they are not distinct\n",
    "    return distinct # else after checking all the elements, there is no repetitive numbers, then return that it is distinct "
   ]
  },
  {
   "cell_type": "code",
   "execution_count": 28,
   "metadata": {},
   "outputs": [
    {
     "data": {
      "text/plain": [
       "True"
      ]
     },
     "execution_count": 28,
     "metadata": {},
     "output_type": "execute_result"
    }
   ],
   "source": [
    "arr = [1,4,9,3,6,13,46]\n",
    "UniqueElements(arr)"
   ]
  },
  {
   "cell_type": "code",
   "execution_count": 29,
   "metadata": {},
   "outputs": [
    {
     "data": {
      "text/plain": [
       "False"
      ]
     },
     "execution_count": 29,
     "metadata": {},
     "output_type": "execute_result"
    }
   ],
   "source": [
    "arr = [1,4,9,3,3,3,46]\n",
    "UniqueElements(arr)"
   ]
  },
  {
   "cell_type": "markdown",
   "metadata": {},
   "source": [
    "### 3. MatrixMultiplication(A[0..n − 1, 0..n − 1], B[0..n − 1, 0..n − 1])\n",
    "\n",
    "Given two n × n matrices A and B, find the time efficiency of the\n",
    "definition-based algorithm for computing their product C = AB. By definition, C\n",
    "is an n × n matrix whose elements are computed as the scalar (dot) products of\n",
    "the rows of matrix A and the columns of matrix B\n",
    "\n",
    "where C[i, j ]= A[i, 0]B[0, j]+ . . . + A[i, k]B[k, j]+ . . . + A[i, n − 1]B[n − 1, j]\n",
    "for every pair of indices 0 ≤ i, j ≤ n − 1.\n",
    "\n",
    "ALGORITHM \n",
    "\n",
    "//Multiplies two square matrices of order n by the definition-based algorithm\n",
    "\n",
    "//Input: Two n × n matrices A and B\n",
    "\n",
    "//Output: Matrix C = AB\n",
    "\n",
    "for i ←0 to n − 1 do\n",
    "\n",
    "for j ←0 to n − 1 do\n",
    "\n",
    "C[i, j ]←0.0\n",
    "\n",
    "for k←0 to n − 1 do\n",
    "\n",
    "C[i, j ]←C[i, j ]+ A[i, k] ∗ B[k, j]\n",
    "\n",
    "return C\n"
   ]
  },
  {
   "cell_type": "code",
   "execution_count": 42,
   "metadata": {},
   "outputs": [],
   "source": [
    "def MatrixMultiplication(a,b):\n",
    "    \"\"\"\n",
    "    Multiplies two square matrices of order n by the definition-based algorithm. The input must be two n × n matrices A and B\n",
    "    \"\"\"\n",
    "    n = a.shape[0]\n",
    "    c = np.array([[0,0,0],[0,0,0],[0,0,0]])\n",
    "    for i in range(0,n):\n",
    "        for j in range(0,n):\n",
    "            c[i,j] = 0\n",
    "            for k in range(0,n):\n",
    "                c[i,j] = c[i,j]+a[i,k] * b[k,j]\n",
    "    return c\n",
    "            \n",
    "    "
   ]
  },
  {
   "cell_type": "code",
   "execution_count": 43,
   "metadata": {},
   "outputs": [
    {
     "data": {
      "text/plain": [
       "array([[ 78, 105, 115],\n",
       "       [ 51,  69,  76],\n",
       "       [182, 259, 301]])"
      ]
     },
     "execution_count": 43,
     "metadata": {},
     "output_type": "execute_result"
    }
   ],
   "source": [
    "import numpy as np\n",
    "\n",
    "a = np.array([[10,9,8],[7,6,5],[42,33,2]])\n",
    "b = np.array([[1,2,3],[4,5,5],[4,5,5]])\n",
    "\n",
    "MatrixMultiplication(a,b)"
   ]
  },
  {
   "cell_type": "markdown",
   "metadata": {},
   "source": [
    "### 4. Binary(n)\n",
    "\n",
    "The following algorithm finds the number of binary digits in the\n",
    "binary representation of a positive decimal integer.\n",
    "\n",
    "\n",
    "### ALGORITHM \n",
    "\n",
    "//Input: A positive decimal integer n\n",
    "\n",
    "//Output: The number of binary digits in n’s binary representation\n",
    "\n",
    "count ←1\n",
    "\n",
    "while n > 1 do\n",
    "\n",
    "count ←count + 1\n",
    "\n",
    "n←n//2\n",
    "\n",
    "return count\n"
   ]
  },
  {
   "cell_type": "code",
   "execution_count": 7,
   "metadata": {},
   "outputs": [],
   "source": [
    "def Binary(n):\n",
    "    \"\"\"finds the number of binary digits in the binary representation of a positive decimal integer\"\"\"\n",
    "    count = 1\n",
    "    while n > 1:\n",
    "        count = count + 1\n",
    "        n = n//2\n",
    "    return count"
   ]
  },
  {
   "cell_type": "code",
   "execution_count": 3,
   "metadata": {},
   "outputs": [
    {
     "data": {
      "text/plain": [
       "3"
      ]
     },
     "execution_count": 3,
     "metadata": {},
     "output_type": "execute_result"
    }
   ],
   "source": [
    "Binary(7)"
   ]
  },
  {
   "cell_type": "markdown",
   "metadata": {},
   "source": [
    "### Extension: bin(n)\n",
    "\n",
    "Binary representation of a given number"
   ]
  },
  {
   "cell_type": "code",
   "execution_count": 5,
   "metadata": {},
   "outputs": [],
   "source": [
    "def bin(n) : \n",
    "    \"\"\"Binary representation of a given number\"\"\"\n",
    "    if n > 1 : \n",
    "        bin(n // 2) \n",
    "    print(n % 2,end = \"\") "
   ]
  },
  {
   "cell_type": "code",
   "execution_count": 11,
   "metadata": {},
   "outputs": [
    {
     "name": "stdout",
     "output_type": "stream",
     "text": [
      "111"
     ]
    }
   ],
   "source": [
    "bin(7)"
   ]
  },
  {
   "cell_type": "code",
   "execution_count": null,
   "metadata": {},
   "outputs": [],
   "source": []
  },
  {
   "cell_type": "code",
   "execution_count": null,
   "metadata": {},
   "outputs": [],
   "source": []
  }
 ],
 "metadata": {
  "kernelspec": {
   "display_name": "Python 3",
   "language": "python",
   "name": "python3"
  },
  "language_info": {
   "codemirror_mode": {
    "name": "ipython",
    "version": 3
   },
   "file_extension": ".py",
   "mimetype": "text/x-python",
   "name": "python",
   "nbconvert_exporter": "python",
   "pygments_lexer": "ipython3",
   "version": "3.6.7"
  }
 },
 "nbformat": 4,
 "nbformat_minor": 2
}
